{
 "cells": [
  {
   "cell_type": "markdown",
   "id": "d77a0923",
   "metadata": {},
   "source": [
    "## airtable_tools_v2"
   ]
  },
  {
   "cell_type": "code",
   "execution_count": 64,
   "id": "9b961d42",
   "metadata": {},
   "outputs": [],
   "source": [
    "import os, logging\n",
    "import numpy as np\n",
    "from tqdm import tqdm\n",
    "import pandas as pd\n",
    "from pyairtable import Table\n",
    "from dotenv import load_dotenv\n",
    "from datetime import datetime\n",
    "import pytz"
   ]
  },
  {
   "cell_type": "code",
   "execution_count": 65,
   "id": "9a6df2ca",
   "metadata": {},
   "outputs": [],
   "source": [
    "logging.basicConfig(format='[%(asctime)s] p%(process)s {%(filename)s:%(lineno)d} %(levelname)s - %(message)s',\n",
    "                    datefmt='%m-%d %H:%M:%S',level='INFO')\n",
    "logger=logging.getLogger(__name__)\n",
    "logger.setLevel('INFO')"
   ]
  },
  {
   "cell_type": "code",
   "execution_count": 66,
   "id": "0ba0605c",
   "metadata": {},
   "outputs": [],
   "source": [
    "load_dotenv()\n",
    "api_key=os.getenv('AIRTABLE_API_KEY')\n",
    "base_id='appDTdyxcShkSR3oF'"
   ]
  },
  {
   "cell_type": "markdown",
   "id": "f94414e5",
   "metadata": {},
   "source": [
    "## Logs"
   ]
  },
  {
   "cell_type": "code",
   "execution_count": 67,
   "id": "aef8eb73",
   "metadata": {},
   "outputs": [],
   "source": [
    "dst_table_name='[A]Logs'"
   ]
  },
  {
   "cell_type": "code",
   "execution_count": 68,
   "id": "8550f124",
   "metadata": {},
   "outputs": [
    {
     "name": "stderr",
     "output_type": "stream",
     "text": [
      "[05-15 19:25:53] p1018 {<ipython-input-68-0324345d546c>:1} INFO - Connecting to Log and Habits table...\n",
      "[05-15 19:25:53] p1018 {<ipython-input-68-0324345d546c>:5} INFO - Connecting to [A]Logs table...\n"
     ]
    }
   ],
   "source": [
    "logger.info('Connecting to Log and Habits table...')\n",
    "log_table=Table(api_key, base_id, 'Log')\n",
    "habit_table=Table(api_key, base_id, 'Habits')\n",
    "\n",
    "logger.info('Connecting to %s table...', dst_table_name)\n",
    "a=Table(api_key, base_id, dst_table_name)"
   ]
  },
  {
   "cell_type": "code",
   "execution_count": 87,
   "id": "d3245ef0",
   "metadata": {},
   "outputs": [
    {
     "name": "stderr",
     "output_type": "stream",
     "text": [
      "[05-15 19:40:50] p1018 {<ipython-input-87-afc5769bc7f9>:1} INFO - Finding Log records with \"Log\" in the Habit name...\n",
      "100%|██████████| 100/100 [00:03<00:00, 26.34it/s]\n",
      "[05-15 19:40:54] p1018 {<ipython-input-87-afc5769bc7f9>:11} INFO - Converting to dataframe and resampling...\n",
      "[05-15 19:40:54] p1018 {<ipython-input-87-afc5769bc7f9>:15} INFO - Deleting existing [A]Logs data..\n",
      "[05-15 19:40:55] p1018 {<ipython-input-87-afc5769bc7f9>:20} INFO - Uploading new analytics data...\n",
      "[05-15 19:40:56] p1018 {<ipython-input-87-afc5769bc7f9>:33} INFO - Completed uploading 9 records. \n"
     ]
    }
   ],
   "source": [
    "logger.info('Finding Log records with \"Log\" in the Habit name...')\n",
    "res=[]\n",
    "for o in tqdm(log_table.all()):\n",
    "    if 'fields' not in o: continue\n",
    "    if 'Habit' not in o['fields']: continue\n",
    "    if len(o['fields']['Habit'])>0:\n",
    "        habit=habit_table.get(o['fields']['Habit'][0])\n",
    "        if 'Log' in habit['fields']['Habit']:\n",
    "            res.append({'Date':o['fields']['Date'], 'Score':o['fields']['Score'], 'Log': habit['fields']['Habit'].strip('Log: ')})\n",
    "\n",
    "logger.info('Converting to dataframe and resampling...')\n",
    "df=pd.DataFrame(res)\n",
    "df.index=pd.DatetimeIndex(df['Date'])\n",
    "\n",
    "logger.info('Deleting existing %s data..', dst_table_name)\n",
    "r=a.all()\n",
    "ids=[o['id'] for o in r]\n",
    "res=a.batch_delete(ids)\n",
    "\n",
    "logger.info('Uploading new analytics data...')\n",
    "for l in list(df['Log'].unique()):\n",
    "    dfs=df[df['Log']==l]\n",
    "    dfs=dfs.sort_index()\n",
    "    dfr=dfs.resample('D').mean() #Resample\n",
    "    \n",
    "    res=[]\n",
    "    for d in dfr.index:\n",
    "        if np.isnan(dfr.loc[d]['Score']): continue\n",
    "        res.append({'Date': str(d.date()),\n",
    "                 'Score': int(dfr.loc[d]['Score']),\n",
    "                 'Metric': l})\n",
    "    res=a.batch_create(res)\n",
    "logger.info('Completed uploading %i records. ', len(res))\n"
   ]
  },
  {
   "cell_type": "markdown",
   "id": "b33536d3",
   "metadata": {},
   "source": [
    "## Health Habits"
   ]
  },
  {
   "cell_type": "code",
   "execution_count": 100,
   "id": "43b486da",
   "metadata": {},
   "outputs": [],
   "source": [
    "dst_table_name='[A]HealthHabits'\n",
    "non_weight_volume_mult=50"
   ]
  },
  {
   "cell_type": "code",
   "execution_count": 91,
   "id": "942f0145",
   "metadata": {},
   "outputs": [
    {
     "name": "stderr",
     "output_type": "stream",
     "text": [
      "[05-15 20:14:19] p1018 {<ipython-input-91-3c083b31d03a>:1} INFO - Connecting to Log, Habits, and Goal table...\n",
      "[05-15 20:14:19] p1018 {<ipython-input-91-3c083b31d03a>:7} INFO - Connecting to [A]HealthHabits table...\n"
     ]
    }
   ],
   "source": [
    "logger.info('Connecting to Log, Habits, and Goal table...')\n",
    "log_table=Table(api_key, base_id, 'Log')\n",
    "habit_table=Table(api_key, base_id, 'Habits')\n",
    "goal_table=Table(api_key, base_id, 'Goals')\n",
    "\n",
    "logger.info('Connecting to %s table...', dst_table_name)\n",
    "a=Table(api_key, base_id, dst_table_name)"
   ]
  },
  {
   "cell_type": "code",
   "execution_count": 113,
   "id": "a54d378d",
   "metadata": {},
   "outputs": [
    {
     "name": "stderr",
     "output_type": "stream",
     "text": [
      "[05-15 20:27:42] p1018 {<ipython-input-113-f442c07a5298>:1} INFO - Finding Exercise Logs\n",
      "100%|██████████| 100/100 [00:07<00:00, 13.74it/s]\n",
      "[05-15 20:27:50] p1018 {<ipython-input-113-f442c07a5298>:26} INFO - Converting to dataframe and resampling...\n",
      "[05-15 20:27:50] p1018 {<ipython-input-113-f442c07a5298>:30} INFO - Deleting existing [A]HealthHabits data..\n"
     ]
    }
   ],
   "source": [
    "logger.info('Finding Exercise Logs')\n",
    "res=[]\n",
    "for o in tqdm(log_table.all()):\n",
    "    if 'fields' not in o: continue\n",
    "    if 'Habit' not in o['fields']: continue\n",
    "    if len(o['fields']['Goal 2'])>0:\n",
    "        goal=goal_table.get(o['fields']['Goal 2'][0])\n",
    "        habit=habit_table.get(o['fields']['Habit'][0])['fields']['Habit']\n",
    "        if 'fields' not in goal: continue\n",
    "        if 'Goal' not in goal['fields']: continue\n",
    "        if goal['fields']['Goal']==\"Health\":\n",
    "            if 'Reps' in o['fields'] and 'Weight' in o['fields'] and 'Sets' in o['fields']:\n",
    "                volume=float(o['fields']['Reps'])*float(o['fields']['Sets'])*float(o['fields']['Weight'])\n",
    "            elif 'Minutes' in o['fields']: \n",
    "                volume=non_weight_volume_mult*o['fields']['Minutes']\n",
    "            else:\n",
    "                volume=100\n",
    "                \n",
    "            if len(o['fields']['Category'])>0: category=o['fields']['Category'][0]\n",
    "            else: category='Unknown'\n",
    "            res.append({'Date':o['fields']['Date'], \n",
    "                        'Volume':volume, \n",
    "                        'Habit':habit,\n",
    "                        'Category': category})\n",
    "            \n",
    "logger.info('Converting to dataframe and resampling...')\n",
    "df=pd.DataFrame(res)\n",
    "df.index=pd.DatetimeIndex(df['Date'])\n",
    "\n",
    "logger.info('Deleting existing %s data..', dst_table_name)\n",
    "r=a.all()\n",
    "ids=[o['id'] for o in r]\n",
    "res=a.batch_delete(ids)"
   ]
  },
  {
   "cell_type": "code",
   "execution_count": 114,
   "id": "776f7be0",
   "metadata": {},
   "outputs": [
    {
     "data": {
      "text/html": [
       "<div>\n",
       "<style scoped>\n",
       "    .dataframe tbody tr th:only-of-type {\n",
       "        vertical-align: middle;\n",
       "    }\n",
       "\n",
       "    .dataframe tbody tr th {\n",
       "        vertical-align: top;\n",
       "    }\n",
       "\n",
       "    .dataframe thead th {\n",
       "        text-align: right;\n",
       "    }\n",
       "</style>\n",
       "<table border=\"1\" class=\"dataframe\">\n",
       "  <thead>\n",
       "    <tr style=\"text-align: right;\">\n",
       "      <th></th>\n",
       "      <th>Date</th>\n",
       "      <th>Volume</th>\n",
       "      <th>Habit</th>\n",
       "      <th>Category</th>\n",
       "    </tr>\n",
       "    <tr>\n",
       "      <th>Date</th>\n",
       "      <th></th>\n",
       "      <th></th>\n",
       "      <th></th>\n",
       "      <th></th>\n",
       "    </tr>\n",
       "  </thead>\n",
       "  <tbody>\n",
       "    <tr>\n",
       "      <th>2022-05-09</th>\n",
       "      <td>2022-05-09</td>\n",
       "      <td>500.0</td>\n",
       "      <td>Peloton</td>\n",
       "      <td>Cardio</td>\n",
       "    </tr>\n",
       "    <tr>\n",
       "      <th>2022-05-13</th>\n",
       "      <td>2022-05-13</td>\n",
       "      <td>250.0</td>\n",
       "      <td>Peloton</td>\n",
       "      <td>Cardio</td>\n",
       "    </tr>\n",
       "    <tr>\n",
       "      <th>2022-05-11</th>\n",
       "      <td>2022-05-11</td>\n",
       "      <td>100.0</td>\n",
       "      <td>Chest Fly</td>\n",
       "      <td>Chest</td>\n",
       "    </tr>\n",
       "    <tr>\n",
       "      <th>2022-05-09</th>\n",
       "      <td>2022-05-09</td>\n",
       "      <td>100.0</td>\n",
       "      <td>Dip</td>\n",
       "      <td>Chest</td>\n",
       "    </tr>\n",
       "    <tr>\n",
       "      <th>2022-05-09</th>\n",
       "      <td>2022-05-09</td>\n",
       "      <td>100.0</td>\n",
       "      <td>Squat barbell</td>\n",
       "      <td>Legs</td>\n",
       "    </tr>\n",
       "  </tbody>\n",
       "</table>\n",
       "</div>"
      ],
      "text/plain": [
       "                  Date  Volume          Habit Category\n",
       "Date                                                  \n",
       "2022-05-09  2022-05-09   500.0        Peloton   Cardio\n",
       "2022-05-13  2022-05-13   250.0        Peloton   Cardio\n",
       "2022-05-11  2022-05-11   100.0      Chest Fly    Chest\n",
       "2022-05-09  2022-05-09   100.0            Dip    Chest\n",
       "2022-05-09  2022-05-09   100.0  Squat barbell     Legs"
      ]
     },
     "execution_count": 114,
     "metadata": {},
     "output_type": "execute_result"
    }
   ],
   "source": [
    "df.head()"
   ]
  },
  {
   "cell_type": "code",
   "execution_count": 117,
   "id": "5fee5b81",
   "metadata": {},
   "outputs": [],
   "source": [
    "df=df.sort_index()\n",
    "dfr=df.resample('D').sum() #Resample"
   ]
  },
  {
   "cell_type": "code",
   "execution_count": 124,
   "id": "21fbd3d6",
   "metadata": {},
   "outputs": [
    {
     "name": "stderr",
     "output_type": "stream",
     "text": [
      "//anaconda3/lib/python3.7/site-packages/ipykernel_launcher.py:2: FutureWarning: The pandas.datetime class is deprecated and will be removed from pandas in a future version. Import from datetime module instead.\n",
      "  \n"
     ]
    }
   ],
   "source": [
    "# dfr.loc[pd.datetime.strptime('2021-4-20', '%Y-%m-%d')]=0 #Working test case\n",
    "end_date=pd.datetime.now()\n",
    "if end_date not in dfr.index: #Do we have data from today?\n",
    "    dfr.loc[end_date]=0 #Add 0s at todays date\n",
    "    dfr=dfr.resample('D').sum()"
   ]
  },
  {
   "cell_type": "code",
   "execution_count": 125,
   "id": "6dfbdd89",
   "metadata": {},
   "outputs": [
    {
     "name": "stderr",
     "output_type": "stream",
     "text": [
      "[05-15 20:30:57] p1018 {<ipython-input-125-a68a068b0f76>:1} INFO - Computing cumulative sums by type...\n"
     ]
    }
   ],
   "source": [
    "logger.info('Computing cumulative sums by type...')\n",
    "\n",
    "for s in df['Category'].unique(): dfr['Volume_'+s]=df[df['Category']==s]['Volume'].resample('D').sum()\n",
    "dfr=dfr.replace(np.NaN, 0)\n",
    "for s in df['Category'].unique(): dfr['Volume_Cumulative_'+s]=dfr['Volume_'+s].cumsum()"
   ]
  },
  {
   "cell_type": "code",
   "execution_count": 126,
   "id": "0689ea97",
   "metadata": {},
   "outputs": [
    {
     "data": {
      "text/html": [
       "<div>\n",
       "<style scoped>\n",
       "    .dataframe tbody tr th:only-of-type {\n",
       "        vertical-align: middle;\n",
       "    }\n",
       "\n",
       "    .dataframe tbody tr th {\n",
       "        vertical-align: top;\n",
       "    }\n",
       "\n",
       "    .dataframe thead th {\n",
       "        text-align: right;\n",
       "    }\n",
       "</style>\n",
       "<table border=\"1\" class=\"dataframe\">\n",
       "  <thead>\n",
       "    <tr style=\"text-align: right;\">\n",
       "      <th></th>\n",
       "      <th>Volume</th>\n",
       "      <th>Volume_Cardio</th>\n",
       "      <th>Volume_Chest</th>\n",
       "      <th>Volume_Legs</th>\n",
       "      <th>Volume_Arms</th>\n",
       "      <th>Volume_Back</th>\n",
       "      <th>Volume_Abs</th>\n",
       "      <th>Volume_Shoulders</th>\n",
       "      <th>Volume_Cumulative_Cardio</th>\n",
       "      <th>Volume_Cumulative_Chest</th>\n",
       "      <th>Volume_Cumulative_Legs</th>\n",
       "      <th>Volume_Cumulative_Arms</th>\n",
       "      <th>Volume_Cumulative_Back</th>\n",
       "      <th>Volume_Cumulative_Abs</th>\n",
       "      <th>Volume_Cumulative_Shoulders</th>\n",
       "    </tr>\n",
       "    <tr>\n",
       "      <th>Date</th>\n",
       "      <th></th>\n",
       "      <th></th>\n",
       "      <th></th>\n",
       "      <th></th>\n",
       "      <th></th>\n",
       "      <th></th>\n",
       "      <th></th>\n",
       "      <th></th>\n",
       "      <th></th>\n",
       "      <th></th>\n",
       "      <th></th>\n",
       "      <th></th>\n",
       "      <th></th>\n",
       "      <th></th>\n",
       "      <th></th>\n",
       "    </tr>\n",
       "  </thead>\n",
       "  <tbody>\n",
       "    <tr>\n",
       "      <th>2022-05-09</th>\n",
       "      <td>6380.0</td>\n",
       "      <td>500.0</td>\n",
       "      <td>2380.0</td>\n",
       "      <td>2050.0</td>\n",
       "      <td>1350.0</td>\n",
       "      <td>100.0</td>\n",
       "      <td>0.0</td>\n",
       "      <td>0.0</td>\n",
       "      <td>500.0</td>\n",
       "      <td>2380.0</td>\n",
       "      <td>2050.0</td>\n",
       "      <td>1350.0</td>\n",
       "      <td>100.0</td>\n",
       "      <td>0.0</td>\n",
       "      <td>0.0</td>\n",
       "    </tr>\n",
       "    <tr>\n",
       "      <th>2022-05-10</th>\n",
       "      <td>0.0</td>\n",
       "      <td>0.0</td>\n",
       "      <td>0.0</td>\n",
       "      <td>0.0</td>\n",
       "      <td>0.0</td>\n",
       "      <td>0.0</td>\n",
       "      <td>0.0</td>\n",
       "      <td>0.0</td>\n",
       "      <td>500.0</td>\n",
       "      <td>2380.0</td>\n",
       "      <td>2050.0</td>\n",
       "      <td>1350.0</td>\n",
       "      <td>100.0</td>\n",
       "      <td>0.0</td>\n",
       "      <td>0.0</td>\n",
       "    </tr>\n",
       "    <tr>\n",
       "      <th>2022-05-11</th>\n",
       "      <td>7525.0</td>\n",
       "      <td>500.0</td>\n",
       "      <td>100.0</td>\n",
       "      <td>2865.0</td>\n",
       "      <td>960.0</td>\n",
       "      <td>1440.0</td>\n",
       "      <td>100.0</td>\n",
       "      <td>1560.0</td>\n",
       "      <td>1000.0</td>\n",
       "      <td>2480.0</td>\n",
       "      <td>4915.0</td>\n",
       "      <td>2310.0</td>\n",
       "      <td>1540.0</td>\n",
       "      <td>100.0</td>\n",
       "      <td>1560.0</td>\n",
       "    </tr>\n",
       "    <tr>\n",
       "      <th>2022-05-12</th>\n",
       "      <td>0.0</td>\n",
       "      <td>0.0</td>\n",
       "      <td>0.0</td>\n",
       "      <td>0.0</td>\n",
       "      <td>0.0</td>\n",
       "      <td>0.0</td>\n",
       "      <td>0.0</td>\n",
       "      <td>0.0</td>\n",
       "      <td>1000.0</td>\n",
       "      <td>2480.0</td>\n",
       "      <td>4915.0</td>\n",
       "      <td>2310.0</td>\n",
       "      <td>1540.0</td>\n",
       "      <td>100.0</td>\n",
       "      <td>1560.0</td>\n",
       "    </tr>\n",
       "    <tr>\n",
       "      <th>2022-05-13</th>\n",
       "      <td>5870.0</td>\n",
       "      <td>250.0</td>\n",
       "      <td>1920.0</td>\n",
       "      <td>3120.0</td>\n",
       "      <td>0.0</td>\n",
       "      <td>280.0</td>\n",
       "      <td>0.0</td>\n",
       "      <td>300.0</td>\n",
       "      <td>1250.0</td>\n",
       "      <td>4400.0</td>\n",
       "      <td>8035.0</td>\n",
       "      <td>2310.0</td>\n",
       "      <td>1820.0</td>\n",
       "      <td>100.0</td>\n",
       "      <td>1860.0</td>\n",
       "    </tr>\n",
       "    <tr>\n",
       "      <th>2022-05-14</th>\n",
       "      <td>0.0</td>\n",
       "      <td>0.0</td>\n",
       "      <td>0.0</td>\n",
       "      <td>0.0</td>\n",
       "      <td>0.0</td>\n",
       "      <td>0.0</td>\n",
       "      <td>0.0</td>\n",
       "      <td>0.0</td>\n",
       "      <td>1250.0</td>\n",
       "      <td>4400.0</td>\n",
       "      <td>8035.0</td>\n",
       "      <td>2310.0</td>\n",
       "      <td>1820.0</td>\n",
       "      <td>100.0</td>\n",
       "      <td>1860.0</td>\n",
       "    </tr>\n",
       "    <tr>\n",
       "      <th>2022-05-15</th>\n",
       "      <td>0.0</td>\n",
       "      <td>0.0</td>\n",
       "      <td>0.0</td>\n",
       "      <td>0.0</td>\n",
       "      <td>0.0</td>\n",
       "      <td>0.0</td>\n",
       "      <td>0.0</td>\n",
       "      <td>0.0</td>\n",
       "      <td>1250.0</td>\n",
       "      <td>4400.0</td>\n",
       "      <td>8035.0</td>\n",
       "      <td>2310.0</td>\n",
       "      <td>1820.0</td>\n",
       "      <td>100.0</td>\n",
       "      <td>1860.0</td>\n",
       "    </tr>\n",
       "  </tbody>\n",
       "</table>\n",
       "</div>"
      ],
      "text/plain": [
       "            Volume  Volume_Cardio  Volume_Chest  Volume_Legs  Volume_Arms  \\\n",
       "Date                                                                        \n",
       "2022-05-09  6380.0          500.0        2380.0       2050.0       1350.0   \n",
       "2022-05-10     0.0            0.0           0.0          0.0          0.0   \n",
       "2022-05-11  7525.0          500.0         100.0       2865.0        960.0   \n",
       "2022-05-12     0.0            0.0           0.0          0.0          0.0   \n",
       "2022-05-13  5870.0          250.0        1920.0       3120.0          0.0   \n",
       "2022-05-14     0.0            0.0           0.0          0.0          0.0   \n",
       "2022-05-15     0.0            0.0           0.0          0.0          0.0   \n",
       "\n",
       "            Volume_Back  Volume_Abs  Volume_Shoulders  \\\n",
       "Date                                                    \n",
       "2022-05-09        100.0         0.0               0.0   \n",
       "2022-05-10          0.0         0.0               0.0   \n",
       "2022-05-11       1440.0       100.0            1560.0   \n",
       "2022-05-12          0.0         0.0               0.0   \n",
       "2022-05-13        280.0         0.0             300.0   \n",
       "2022-05-14          0.0         0.0               0.0   \n",
       "2022-05-15          0.0         0.0               0.0   \n",
       "\n",
       "            Volume_Cumulative_Cardio  Volume_Cumulative_Chest  \\\n",
       "Date                                                            \n",
       "2022-05-09                     500.0                   2380.0   \n",
       "2022-05-10                     500.0                   2380.0   \n",
       "2022-05-11                    1000.0                   2480.0   \n",
       "2022-05-12                    1000.0                   2480.0   \n",
       "2022-05-13                    1250.0                   4400.0   \n",
       "2022-05-14                    1250.0                   4400.0   \n",
       "2022-05-15                    1250.0                   4400.0   \n",
       "\n",
       "            Volume_Cumulative_Legs  Volume_Cumulative_Arms  \\\n",
       "Date                                                         \n",
       "2022-05-09                  2050.0                  1350.0   \n",
       "2022-05-10                  2050.0                  1350.0   \n",
       "2022-05-11                  4915.0                  2310.0   \n",
       "2022-05-12                  4915.0                  2310.0   \n",
       "2022-05-13                  8035.0                  2310.0   \n",
       "2022-05-14                  8035.0                  2310.0   \n",
       "2022-05-15                  8035.0                  2310.0   \n",
       "\n",
       "            Volume_Cumulative_Back  Volume_Cumulative_Abs  \\\n",
       "Date                                                        \n",
       "2022-05-09                   100.0                    0.0   \n",
       "2022-05-10                   100.0                    0.0   \n",
       "2022-05-11                  1540.0                  100.0   \n",
       "2022-05-12                  1540.0                  100.0   \n",
       "2022-05-13                  1820.0                  100.0   \n",
       "2022-05-14                  1820.0                  100.0   \n",
       "2022-05-15                  1820.0                  100.0   \n",
       "\n",
       "            Volume_Cumulative_Shoulders  \n",
       "Date                                     \n",
       "2022-05-09                          0.0  \n",
       "2022-05-10                          0.0  \n",
       "2022-05-11                       1560.0  \n",
       "2022-05-12                       1560.0  \n",
       "2022-05-13                       1860.0  \n",
       "2022-05-14                       1860.0  \n",
       "2022-05-15                       1860.0  "
      ]
     },
     "execution_count": 126,
     "metadata": {},
     "output_type": "execute_result"
    }
   ],
   "source": [
    "dfr"
   ]
  },
  {
   "cell_type": "code",
   "execution_count": 128,
   "id": "3a08f16d",
   "metadata": {},
   "outputs": [
    {
     "name": "stderr",
     "output_type": "stream",
     "text": [
      "[05-15 20:31:35] p1018 {<ipython-input-128-214e3df9818d>:1} INFO - Deleting old Analytics data..\n"
     ]
    }
   ],
   "source": [
    "logger.info('Deleting old Analytics data..')\n",
    "r=a.all()\n",
    "ids=[o['id'] for o in r]\n",
    "res=a.batch_delete(ids)"
   ]
  },
  {
   "cell_type": "code",
   "execution_count": 132,
   "id": "3687755a",
   "metadata": {},
   "outputs": [
    {
     "name": "stderr",
     "output_type": "stream",
     "text": [
      "[05-15 20:33:59] p1018 {<ipython-input-132-6841a70e9f65>:1} INFO - Uploading new analytics data...\n"
     ]
    }
   ],
   "source": [
    "logger.info('Uploading new analytics data...')\n",
    "l=[]\n",
    "for s in df['Category'].unique():\n",
    "    for d in dfr.index:\n",
    "        l.append({'Date': str(d.date()),\n",
    "                 'Exercise Volume': dfr.loc[d]['Volume_Cumulative_'+s],\n",
    "                 'Category': s})\n",
    "res=a.batch_create(l)"
   ]
  },
  {
   "cell_type": "code",
   "execution_count": null,
   "id": "40c37088",
   "metadata": {},
   "outputs": [],
   "source": []
  },
  {
   "cell_type": "code",
   "execution_count": null,
   "id": "9b60ae3d",
   "metadata": {},
   "outputs": [],
   "source": []
  },
  {
   "cell_type": "code",
   "execution_count": null,
   "id": "59566db6",
   "metadata": {},
   "outputs": [],
   "source": []
  },
  {
   "cell_type": "code",
   "execution_count": null,
   "id": "5a30d1dc",
   "metadata": {},
   "outputs": [],
   "source": []
  },
  {
   "cell_type": "code",
   "execution_count": null,
   "id": "f25458d7",
   "metadata": {},
   "outputs": [],
   "source": []
  },
  {
   "cell_type": "code",
   "execution_count": null,
   "id": "1eb3efd1",
   "metadata": {},
   "outputs": [],
   "source": []
  },
  {
   "cell_type": "code",
   "execution_count": 129,
   "id": "f3c48afd",
   "metadata": {},
   "outputs": [],
   "source": [
    "# logger.info('Uploading new health data...')\n",
    "# for l in list(df['Log'].unique()):\n",
    "#     dfs=df[df['Log']==l]\n",
    "#     dfs=dfs.sort_index()\n",
    "#     dfr=dfs.resample('D').mean() #Resample\n",
    "#     res=[]\n",
    "#     for d in dfr.index:\n",
    "#         if np.isnan(dfr.loc[d]['Score']): continue\n",
    "#         res.append({'Date': str(d.date()),\n",
    "#                  'Score': int(dfr.loc[d]['Score']),\n",
    "#                  'Metric': l})\n",
    "#     res=a.batch_create(res)\n",
    "# logger.info('Completed uploading %i records. ', len(res))"
   ]
  },
  {
   "cell_type": "code",
   "execution_count": null,
   "id": "937ad24d",
   "metadata": {},
   "outputs": [],
   "source": []
  },
  {
   "cell_type": "code",
   "execution_count": null,
   "id": "169bb806",
   "metadata": {},
   "outputs": [],
   "source": []
  },
  {
   "cell_type": "code",
   "execution_count": null,
   "id": "7ef5421f",
   "metadata": {},
   "outputs": [],
   "source": []
  },
  {
   "cell_type": "code",
   "execution_count": null,
   "id": "c4f74ee5",
   "metadata": {},
   "outputs": [],
   "source": []
  },
  {
   "cell_type": "code",
   "execution_count": 84,
   "id": "9114a0fa",
   "metadata": {},
   "outputs": [
    {
     "data": {
      "text/plain": [
       "[{'Date': '2022-05-07', 'Score': 5, 'Metric': 'Satisfaction'},\n",
       " {'Date': '2022-05-08', 'Score': 5, 'Metric': 'Satisfaction'},\n",
       " {'Date': '2022-05-09', 'Score': 4, 'Metric': 'Satisfaction'},\n",
       " {'Date': '2022-05-10', 'Score': 4, 'Metric': 'Satisfaction'},\n",
       " {'Date': '2022-05-11', 'Score': 4, 'Metric': 'Satisfaction'},\n",
       " {'Date': '2022-05-12', 'Score': 4, 'Metric': 'Satisfaction'},\n",
       " {'Date': '2022-05-13', 'Score': 2, 'Metric': 'Satisfaction'},\n",
       " {'Date': '2022-05-14', 'Score': 1, 'Metric': 'Satisfaction'}]"
      ]
     },
     "execution_count": 84,
     "metadata": {},
     "output_type": "execute_result"
    }
   ],
   "source": [
    "res"
   ]
  },
  {
   "cell_type": "markdown",
   "id": "12cf8797",
   "metadata": {},
   "source": [
    "```\n",
    "{\n",
    "  \"$schema\": \"https://vega.github.io/schema/vega-lite/v4.json\",\n",
    "  \"title\": \"[A]Logs\",\n",
    "  \"width\": \"container\",\n",
    "  \"height\": \"container\",\n",
    "  \"mark\": \"area\",\n",
    "  \"encoding\": {\n",
    "    \"x\": {\n",
    "      \"field\": \"Date\",\n",
    "      \"type\": \"nominal\"\n",
    "    },\n",
    "    \"y\": {\n",
    "      \"aggregate\": \"sum\",\n",
    "      \"field\": \"Score\",\n",
    "      \"type\": \"quantitative\"\n",
    "    },\n",
    "    \"color\": {\n",
    "      \"type\":\"nominal\",\n",
    "      \"field\": \"Metric\",\n",
    "      \"scale\": {\"scheme\": \"category10\"}\n",
    "    }\n",
    "  }\n",
    "}\n",
    "```"
   ]
  },
  {
   "cell_type": "code",
   "execution_count": null,
   "id": "b288e974",
   "metadata": {},
   "outputs": [],
   "source": []
  },
  {
   "cell_type": "code",
   "execution_count": null,
   "id": "629d26e8",
   "metadata": {},
   "outputs": [],
   "source": []
  },
  {
   "cell_type": "code",
   "execution_count": null,
   "id": "5a90a243",
   "metadata": {},
   "outputs": [],
   "source": []
  },
  {
   "cell_type": "code",
   "execution_count": null,
   "id": "079e104f",
   "metadata": {},
   "outputs": [],
   "source": []
  },
  {
   "cell_type": "code",
   "execution_count": null,
   "id": "edc00b39",
   "metadata": {},
   "outputs": [],
   "source": [
    "# logger.info('Connecting to %s table...', src_table_name)\n",
    "# a=Airtable(base_id, src_table_name, api_key)\n",
    "\n",
    "# res=a.get_all()\n",
    "# logger.info('Found %i records', len(res))\n",
    "# res=[{**r['fields'], **r} for r in res]\n",
    "\n",
    "# logger.info('Converting to dataframe and resampling...')\n",
    "# df=pd.DataFrame(res)\n",
    "# df.index=pd.DatetimeIndex(df['Date'])\n",
    "# df=df.sort_index()\n",
    "# dfr=df.resample('D').mean() #Resample\n",
    "\n",
    "# logger.info('Connecting to %s table...', dst_table_name)\n",
    "# a=Airtable(base_id, dst_table_name, api_key)\n",
    "\n",
    "# logger.info('Deleting existing %s data..', dst_table_name)\n",
    "# r=a.get_all()\n",
    "# ids=[o['id'] for o in r]\n",
    "# res=a.batch_delete(ids)\n",
    "\n",
    "# logger.info('Uploading new analytics data...')\n",
    "# l=[]\n",
    "# for s in measures:\n",
    "#     for d in dfr.index:\n",
    "#         if np.isnan(dfr.loc[d][s]): continue\n",
    "#         l.append({'Date': str(d.date()),\n",
    "#                  'Measure': dfr.loc[d][s],\n",
    "#                  'Metric': s})\n",
    "# res=a.batch_insert(l)\n",
    "# logger.info('Completed uploading %i records. ', len(res))"
   ]
  },
  {
   "cell_type": "markdown",
   "id": "ef245e59",
   "metadata": {},
   "source": [
    "---"
   ]
  },
  {
   "cell_type": "code",
   "execution_count": null,
   "id": "819ae12d",
   "metadata": {},
   "outputs": [],
   "source": []
  },
  {
   "cell_type": "code",
   "execution_count": 37,
   "id": "8548e032",
   "metadata": {},
   "outputs": [],
   "source": [
    "       "
   ]
  },
  {
   "cell_type": "code",
   "execution_count": 43,
   "id": "4a4f1a5b",
   "metadata": {},
   "outputs": [
    {
     "name": "stderr",
     "output_type": "stream",
     "text": [
      "[05-08 20:59:44] p1144 {<ipython-input-43-f504cc177592>:2} INFO - Found 4 records\n",
      "[05-08 20:59:44] p1144 {<ipython-input-43-f504cc177592>:5} INFO - Converting to dataframe and resampling...\n"
     ]
    }
   ],
   "source": [
    "res=action_table.all()\n",
    "logger.info('Found %i records', len(res))\n",
    "res=[{**r['fields'], **r} for r in res]\n",
    "\n",
    "logger.info('Converting to dataframe and resampling...')\n",
    "df=pd.DataFrame(res)"
   ]
  },
  {
   "cell_type": "code",
   "execution_count": 44,
   "id": "0b5c69f2",
   "metadata": {},
   "outputs": [
    {
     "data": {
      "text/html": [
       "<div>\n",
       "<style scoped>\n",
       "    .dataframe tbody tr th:only-of-type {\n",
       "        vertical-align: middle;\n",
       "    }\n",
       "\n",
       "    .dataframe tbody tr th {\n",
       "        vertical-align: top;\n",
       "    }\n",
       "\n",
       "    .dataframe thead th {\n",
       "        text-align: right;\n",
       "    }\n",
       "</style>\n",
       "<table border=\"1\" class=\"dataframe\">\n",
       "  <thead>\n",
       "    <tr style=\"text-align: right;\">\n",
       "      <th></th>\n",
       "      <th>Date</th>\n",
       "      <th>Habit</th>\n",
       "      <th>Score</th>\n",
       "      <th>Goal 2</th>\n",
       "      <th>id</th>\n",
       "      <th>createdTime</th>\n",
       "      <th>fields</th>\n",
       "    </tr>\n",
       "  </thead>\n",
       "  <tbody>\n",
       "    <tr>\n",
       "      <th>0</th>\n",
       "      <td>2022-05-07</td>\n",
       "      <td>[recFqsNfUNIe88oRK]</td>\n",
       "      <td>5</td>\n",
       "      <td>[recenm1UYUwAIcoya]</td>\n",
       "      <td>recMHleWhG91jn7sc</td>\n",
       "      <td>2022-05-08T19:00:41.000Z</td>\n",
       "      <td>{'Date': '2022-05-07', 'Habit': ['recFqsNfUNIe...</td>\n",
       "    </tr>\n",
       "    <tr>\n",
       "      <th>1</th>\n",
       "      <td>2022-05-08</td>\n",
       "      <td>[recFqsNfUNIe88oRK]</td>\n",
       "      <td>5</td>\n",
       "      <td>[recenm1UYUwAIcoya]</td>\n",
       "      <td>recWwwlzwY1XqGQdE</td>\n",
       "      <td>2022-05-08T21:56:53.000Z</td>\n",
       "      <td>{'Date': '2022-05-08', 'Habit': ['recFqsNfUNIe...</td>\n",
       "    </tr>\n",
       "    <tr>\n",
       "      <th>2</th>\n",
       "      <td>2022-05-08</td>\n",
       "      <td>[rec24NGEkbvktkD9B]</td>\n",
       "      <td>4</td>\n",
       "      <td>[recenm1UYUwAIcoya]</td>\n",
       "      <td>recmIsNssDDyEl9io</td>\n",
       "      <td>2022-05-08T21:56:49.000Z</td>\n",
       "      <td>{'Date': '2022-05-08', 'Habit': ['rec24NGEkbvk...</td>\n",
       "    </tr>\n",
       "    <tr>\n",
       "      <th>3</th>\n",
       "      <td>2022-05-07</td>\n",
       "      <td>[rec24NGEkbvktkD9B]</td>\n",
       "      <td>3</td>\n",
       "      <td>[recenm1UYUwAIcoya]</td>\n",
       "      <td>recqlcZ0qzaBZ7EHW</td>\n",
       "      <td>2022-05-08T17:11:28.000Z</td>\n",
       "      <td>{'Date': '2022-05-07', 'Habit': ['rec24NGEkbvk...</td>\n",
       "    </tr>\n",
       "  </tbody>\n",
       "</table>\n",
       "</div>"
      ],
      "text/plain": [
       "         Date                Habit  Score               Goal 2  \\\n",
       "0  2022-05-07  [recFqsNfUNIe88oRK]      5  [recenm1UYUwAIcoya]   \n",
       "1  2022-05-08  [recFqsNfUNIe88oRK]      5  [recenm1UYUwAIcoya]   \n",
       "2  2022-05-08  [rec24NGEkbvktkD9B]      4  [recenm1UYUwAIcoya]   \n",
       "3  2022-05-07  [rec24NGEkbvktkD9B]      3  [recenm1UYUwAIcoya]   \n",
       "\n",
       "                  id               createdTime  \\\n",
       "0  recMHleWhG91jn7sc  2022-05-08T19:00:41.000Z   \n",
       "1  recWwwlzwY1XqGQdE  2022-05-08T21:56:53.000Z   \n",
       "2  recmIsNssDDyEl9io  2022-05-08T21:56:49.000Z   \n",
       "3  recqlcZ0qzaBZ7EHW  2022-05-08T17:11:28.000Z   \n",
       "\n",
       "                                              fields  \n",
       "0  {'Date': '2022-05-07', 'Habit': ['recFqsNfUNIe...  \n",
       "1  {'Date': '2022-05-08', 'Habit': ['recFqsNfUNIe...  \n",
       "2  {'Date': '2022-05-08', 'Habit': ['rec24NGEkbvk...  \n",
       "3  {'Date': '2022-05-07', 'Habit': ['rec24NGEkbvk...  "
      ]
     },
     "execution_count": 44,
     "metadata": {},
     "output_type": "execute_result"
    }
   ],
   "source": [
    "df"
   ]
  },
  {
   "cell_type": "code",
   "execution_count": 45,
   "id": "b4bcc3d0",
   "metadata": {},
   "outputs": [],
   "source": [
    "df.index=pd.DatetimeIndex(df['Date'])\n",
    "df=df.sort_index()\n",
    "dfr=df.resample('D').sum() #Resample"
   ]
  },
  {
   "cell_type": "code",
   "execution_count": 46,
   "id": "501b3be7",
   "metadata": {},
   "outputs": [
    {
     "data": {
      "text/html": [
       "<div>\n",
       "<style scoped>\n",
       "    .dataframe tbody tr th:only-of-type {\n",
       "        vertical-align: middle;\n",
       "    }\n",
       "\n",
       "    .dataframe tbody tr th {\n",
       "        vertical-align: top;\n",
       "    }\n",
       "\n",
       "    .dataframe thead th {\n",
       "        text-align: right;\n",
       "    }\n",
       "</style>\n",
       "<table border=\"1\" class=\"dataframe\">\n",
       "  <thead>\n",
       "    <tr style=\"text-align: right;\">\n",
       "      <th></th>\n",
       "      <th>Score</th>\n",
       "    </tr>\n",
       "    <tr>\n",
       "      <th>Date</th>\n",
       "      <th></th>\n",
       "    </tr>\n",
       "  </thead>\n",
       "  <tbody>\n",
       "    <tr>\n",
       "      <th>2022-05-07</th>\n",
       "      <td>8</td>\n",
       "    </tr>\n",
       "    <tr>\n",
       "      <th>2022-05-08</th>\n",
       "      <td>9</td>\n",
       "    </tr>\n",
       "  </tbody>\n",
       "</table>\n",
       "</div>"
      ],
      "text/plain": [
       "            Score\n",
       "Date             \n",
       "2022-05-07      8\n",
       "2022-05-08      9"
      ]
     },
     "execution_count": 46,
     "metadata": {},
     "output_type": "execute_result"
    }
   ],
   "source": [
    "dfr"
   ]
  },
  {
   "cell_type": "code",
   "execution_count": null,
   "id": "efa897ae",
   "metadata": {},
   "outputs": [],
   "source": []
  },
  {
   "cell_type": "code",
   "execution_count": 31,
   "id": "399522ef",
   "metadata": {},
   "outputs": [],
   "source": [
    "goal_table=Table(api_key, base_id, 'Goals')\n"
   ]
  },
  {
   "cell_type": "code",
   "execution_count": 35,
   "id": "84e54aac",
   "metadata": {},
   "outputs": [
    {
     "data": {
      "text/plain": [
       "'Personal Development'"
      ]
     },
     "execution_count": 35,
     "metadata": {},
     "output_type": "execute_result"
    }
   ],
   "source": [
    "goal_table.get('recenm1UYUwAIcoya')['fields']['Goal']"
   ]
  },
  {
   "cell_type": "code",
   "execution_count": null,
   "id": "df2e2da7",
   "metadata": {},
   "outputs": [],
   "source": []
  },
  {
   "cell_type": "code",
   "execution_count": null,
   "id": "dbc1e659",
   "metadata": {},
   "outputs": [],
   "source": []
  },
  {
   "cell_type": "code",
   "execution_count": null,
   "id": "c0461c39",
   "metadata": {},
   "outputs": [],
   "source": []
  }
 ],
 "metadata": {
  "kernelspec": {
   "display_name": "Python 3",
   "language": "python",
   "name": "python3"
  },
  "language_info": {
   "codemirror_mode": {
    "name": "ipython",
    "version": 3
   },
   "file_extension": ".py",
   "mimetype": "text/x-python",
   "name": "python",
   "nbconvert_exporter": "python",
   "pygments_lexer": "ipython3",
   "version": "3.7.3"
  }
 },
 "nbformat": 4,
 "nbformat_minor": 5
}

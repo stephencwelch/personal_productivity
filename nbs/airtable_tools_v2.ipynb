{
 "cells": [
  {
   "cell_type": "markdown",
   "id": "d77a0923",
   "metadata": {},
   "source": [
    "## airtable_tools_v2"
   ]
  },
  {
   "cell_type": "code",
   "execution_count": 64,
   "id": "9b961d42",
   "metadata": {},
   "outputs": [],
   "source": [
    "import os, logging\n",
    "import numpy as np\n",
    "from tqdm import tqdm\n",
    "import pandas as pd\n",
    "from pyairtable import Table\n",
    "from dotenv import load_dotenv\n",
    "from datetime import datetime\n",
    "import pytz"
   ]
  },
  {
   "cell_type": "code",
   "execution_count": 65,
   "id": "9a6df2ca",
   "metadata": {},
   "outputs": [],
   "source": [
    "logging.basicConfig(format='[%(asctime)s] p%(process)s {%(filename)s:%(lineno)d} %(levelname)s - %(message)s',\n",
    "                    datefmt='%m-%d %H:%M:%S',level='INFO')\n",
    "logger=logging.getLogger(__name__)\n",
    "logger.setLevel('INFO')"
   ]
  },
  {
   "cell_type": "code",
   "execution_count": 66,
   "id": "0ba0605c",
   "metadata": {},
   "outputs": [],
   "source": [
    "load_dotenv()\n",
    "api_key=os.getenv('AIRTABLE_API_KEY')\n",
    "base_id='appDTdyxcShkSR3oF'"
   ]
  },
  {
   "cell_type": "markdown",
   "id": "6c3fdb0c",
   "metadata": {},
   "source": [
    "## Logs"
   ]
  },
  {
   "cell_type": "code",
   "execution_count": 67,
   "id": "a80af1cb",
   "metadata": {},
   "outputs": [],
   "source": [
    "dst_table_name='[A]Logs'"
   ]
  },
  {
   "cell_type": "code",
   "execution_count": 68,
   "id": "8550f124",
   "metadata": {},
   "outputs": [
    {
     "name": "stderr",
     "output_type": "stream",
     "text": [
      "[05-15 19:25:53] p1018 {<ipython-input-68-0324345d546c>:1} INFO - Connecting to Log and Habits table...\n",
      "[05-15 19:25:53] p1018 {<ipython-input-68-0324345d546c>:5} INFO - Connecting to [A]Logs table...\n"
     ]
    }
   ],
   "source": [
    "logger.info('Connecting to Log and Habits table...')\n",
    "log_table=Table(api_key, base_id, 'Log')\n",
    "habit_table=Table(api_key, base_id, 'Habits')\n",
    "\n",
    "logger.info('Connecting to %s table...', dst_table_name)\n",
    "a=Table(api_key, base_id, dst_table_name)"
   ]
  },
  {
   "cell_type": "code",
   "execution_count": null,
   "id": "6e1dbef0",
   "metadata": {},
   "outputs": [
    {
     "name": "stderr",
     "output_type": "stream",
     "text": [
      "[05-15 19:40:50] p1018 {<ipython-input-87-afc5769bc7f9>:1} INFO - Finding Log records with \"Log\" in the Habit name...\n",
      "  0%|          | 0/100 [00:00<?, ?it/s]"
     ]
    }
   ],
   "source": [
    "logger.info('Finding Log records with \"Log\" in the Habit name...')\n",
    "res=[]\n",
    "for o in tqdm(log_table.all()):\n",
    "    if 'fields' not in o: continue\n",
    "    if 'Habit' not in o['fields']: continue\n",
    "    if len(o['fields']['Habit'])>0:\n",
    "        habit=habit_table.get(o['fields']['Habit'][0])\n",
    "        if 'Log' in habit['fields']['Habit']:\n",
    "            res.append({'Date':o['fields']['Date'], 'Score':o['fields']['Score'], 'Log': habit['fields']['Habit'].strip('Log: ')})\n",
    "\n",
    "logger.info('Converting to dataframe and resampling...')\n",
    "df=pd.DataFrame(res)\n",
    "df.index=pd.DatetimeIndex(df['Date'])\n",
    "\n",
    "logger.info('Deleting existing %s data..', dst_table_name)\n",
    "r=a.all()\n",
    "ids=[o['id'] for o in r]\n",
    "res=a.batch_delete(ids)\n",
    "\n",
    "logger.info('Uploading new analytics data...')\n",
    "for l in list(df['Log'].unique()):\n",
    "    dfs=df[df['Log']==l]\n",
    "    dfs=dfs.sort_index()\n",
    "    dfr=dfs.resample('D').mean() #Resample\n",
    "    \n",
    "    res=[]\n",
    "    for d in dfr.index:\n",
    "        if np.isnan(dfr.loc[d]['Score']): continue\n",
    "        res.append({'Date': str(d.date()),\n",
    "                 'Score': int(dfr.loc[d]['Score']),\n",
    "                 'Metric': l})\n",
    "    res=a.batch_create(res)\n",
    "logger.info('Completed uploading %i records. ', len(res))\n"
   ]
  },
  {
   "cell_type": "code",
   "execution_count": 84,
   "id": "56bc3576",
   "metadata": {},
   "outputs": [
    {
     "data": {
      "text/plain": [
       "[{'Date': '2022-05-07', 'Score': 5, 'Metric': 'Satisfaction'},\n",
       " {'Date': '2022-05-08', 'Score': 5, 'Metric': 'Satisfaction'},\n",
       " {'Date': '2022-05-09', 'Score': 4, 'Metric': 'Satisfaction'},\n",
       " {'Date': '2022-05-10', 'Score': 4, 'Metric': 'Satisfaction'},\n",
       " {'Date': '2022-05-11', 'Score': 4, 'Metric': 'Satisfaction'},\n",
       " {'Date': '2022-05-12', 'Score': 4, 'Metric': 'Satisfaction'},\n",
       " {'Date': '2022-05-13', 'Score': 2, 'Metric': 'Satisfaction'},\n",
       " {'Date': '2022-05-14', 'Score': 1, 'Metric': 'Satisfaction'}]"
      ]
     },
     "execution_count": 84,
     "metadata": {},
     "output_type": "execute_result"
    }
   ],
   "source": [
    "res"
   ]
  },
  {
   "cell_type": "markdown",
   "id": "bc6ab0b8",
   "metadata": {},
   "source": [
    "```\n",
    "{\n",
    "  \"$schema\": \"https://vega.github.io/schema/vega-lite/v4.json\",\n",
    "  \"title\": \"[A]Logs\",\n",
    "  \"width\": \"container\",\n",
    "  \"height\": \"container\",\n",
    "  \"mark\": \"area\",\n",
    "  \"encoding\": {\n",
    "    \"x\": {\n",
    "      \"field\": \"Date\",\n",
    "      \"type\": \"nominal\"\n",
    "    },\n",
    "    \"y\": {\n",
    "      \"aggregate\": \"sum\",\n",
    "      \"field\": \"Score\",\n",
    "      \"type\": \"quantitative\"\n",
    "    },\n",
    "    \"color\": {\n",
    "      \"type\":\"nominal\",\n",
    "      \"field\": \"Metric\",\n",
    "      \"scale\": {\"scheme\": \"category10\"}\n",
    "    }\n",
    "  }\n",
    "}\n",
    "```"
   ]
  },
  {
   "cell_type": "code",
   "execution_count": null,
   "id": "0f3852fa",
   "metadata": {},
   "outputs": [],
   "source": []
  },
  {
   "cell_type": "code",
   "execution_count": null,
   "id": "171e2312",
   "metadata": {},
   "outputs": [],
   "source": []
  },
  {
   "cell_type": "code",
   "execution_count": null,
   "id": "5c399825",
   "metadata": {},
   "outputs": [],
   "source": []
  },
  {
   "cell_type": "code",
   "execution_count": null,
   "id": "95d7cbc2",
   "metadata": {},
   "outputs": [],
   "source": []
  },
  {
   "cell_type": "code",
   "execution_count": null,
   "id": "721a350f",
   "metadata": {},
   "outputs": [],
   "source": [
    "# logger.info('Connecting to %s table...', src_table_name)\n",
    "# a=Airtable(base_id, src_table_name, api_key)\n",
    "\n",
    "# res=a.get_all()\n",
    "# logger.info('Found %i records', len(res))\n",
    "# res=[{**r['fields'], **r} for r in res]\n",
    "\n",
    "# logger.info('Converting to dataframe and resampling...')\n",
    "# df=pd.DataFrame(res)\n",
    "# df.index=pd.DatetimeIndex(df['Date'])\n",
    "# df=df.sort_index()\n",
    "# dfr=df.resample('D').mean() #Resample\n",
    "\n",
    "# logger.info('Connecting to %s table...', dst_table_name)\n",
    "# a=Airtable(base_id, dst_table_name, api_key)\n",
    "\n",
    "# logger.info('Deleting existing %s data..', dst_table_name)\n",
    "# r=a.get_all()\n",
    "# ids=[o['id'] for o in r]\n",
    "# res=a.batch_delete(ids)\n",
    "\n",
    "# logger.info('Uploading new analytics data...')\n",
    "# l=[]\n",
    "# for s in measures:\n",
    "#     for d in dfr.index:\n",
    "#         if np.isnan(dfr.loc[d][s]): continue\n",
    "#         l.append({'Date': str(d.date()),\n",
    "#                  'Measure': dfr.loc[d][s],\n",
    "#                  'Metric': s})\n",
    "# res=a.batch_insert(l)\n",
    "# logger.info('Completed uploading %i records. ', len(res))"
   ]
  },
  {
   "cell_type": "markdown",
   "id": "339b774b",
   "metadata": {},
   "source": [
    "---"
   ]
  },
  {
   "cell_type": "code",
   "execution_count": null,
   "id": "819ae12d",
   "metadata": {},
   "outputs": [],
   "source": []
  },
  {
   "cell_type": "code",
   "execution_count": 37,
   "id": "8548e032",
   "metadata": {},
   "outputs": [],
   "source": [
    "       "
   ]
  },
  {
   "cell_type": "code",
   "execution_count": 43,
   "id": "4a4f1a5b",
   "metadata": {},
   "outputs": [
    {
     "name": "stderr",
     "output_type": "stream",
     "text": [
      "[05-08 20:59:44] p1144 {<ipython-input-43-f504cc177592>:2} INFO - Found 4 records\n",
      "[05-08 20:59:44] p1144 {<ipython-input-43-f504cc177592>:5} INFO - Converting to dataframe and resampling...\n"
     ]
    }
   ],
   "source": [
    "res=action_table.all()\n",
    "logger.info('Found %i records', len(res))\n",
    "res=[{**r['fields'], **r} for r in res]\n",
    "\n",
    "logger.info('Converting to dataframe and resampling...')\n",
    "df=pd.DataFrame(res)"
   ]
  },
  {
   "cell_type": "code",
   "execution_count": 44,
   "id": "0b5c69f2",
   "metadata": {},
   "outputs": [
    {
     "data": {
      "text/html": [
       "<div>\n",
       "<style scoped>\n",
       "    .dataframe tbody tr th:only-of-type {\n",
       "        vertical-align: middle;\n",
       "    }\n",
       "\n",
       "    .dataframe tbody tr th {\n",
       "        vertical-align: top;\n",
       "    }\n",
       "\n",
       "    .dataframe thead th {\n",
       "        text-align: right;\n",
       "    }\n",
       "</style>\n",
       "<table border=\"1\" class=\"dataframe\">\n",
       "  <thead>\n",
       "    <tr style=\"text-align: right;\">\n",
       "      <th></th>\n",
       "      <th>Date</th>\n",
       "      <th>Habit</th>\n",
       "      <th>Score</th>\n",
       "      <th>Goal 2</th>\n",
       "      <th>id</th>\n",
       "      <th>createdTime</th>\n",
       "      <th>fields</th>\n",
       "    </tr>\n",
       "  </thead>\n",
       "  <tbody>\n",
       "    <tr>\n",
       "      <th>0</th>\n",
       "      <td>2022-05-07</td>\n",
       "      <td>[recFqsNfUNIe88oRK]</td>\n",
       "      <td>5</td>\n",
       "      <td>[recenm1UYUwAIcoya]</td>\n",
       "      <td>recMHleWhG91jn7sc</td>\n",
       "      <td>2022-05-08T19:00:41.000Z</td>\n",
       "      <td>{'Date': '2022-05-07', 'Habit': ['recFqsNfUNIe...</td>\n",
       "    </tr>\n",
       "    <tr>\n",
       "      <th>1</th>\n",
       "      <td>2022-05-08</td>\n",
       "      <td>[recFqsNfUNIe88oRK]</td>\n",
       "      <td>5</td>\n",
       "      <td>[recenm1UYUwAIcoya]</td>\n",
       "      <td>recWwwlzwY1XqGQdE</td>\n",
       "      <td>2022-05-08T21:56:53.000Z</td>\n",
       "      <td>{'Date': '2022-05-08', 'Habit': ['recFqsNfUNIe...</td>\n",
       "    </tr>\n",
       "    <tr>\n",
       "      <th>2</th>\n",
       "      <td>2022-05-08</td>\n",
       "      <td>[rec24NGEkbvktkD9B]</td>\n",
       "      <td>4</td>\n",
       "      <td>[recenm1UYUwAIcoya]</td>\n",
       "      <td>recmIsNssDDyEl9io</td>\n",
       "      <td>2022-05-08T21:56:49.000Z</td>\n",
       "      <td>{'Date': '2022-05-08', 'Habit': ['rec24NGEkbvk...</td>\n",
       "    </tr>\n",
       "    <tr>\n",
       "      <th>3</th>\n",
       "      <td>2022-05-07</td>\n",
       "      <td>[rec24NGEkbvktkD9B]</td>\n",
       "      <td>3</td>\n",
       "      <td>[recenm1UYUwAIcoya]</td>\n",
       "      <td>recqlcZ0qzaBZ7EHW</td>\n",
       "      <td>2022-05-08T17:11:28.000Z</td>\n",
       "      <td>{'Date': '2022-05-07', 'Habit': ['rec24NGEkbvk...</td>\n",
       "    </tr>\n",
       "  </tbody>\n",
       "</table>\n",
       "</div>"
      ],
      "text/plain": [
       "         Date                Habit  Score               Goal 2  \\\n",
       "0  2022-05-07  [recFqsNfUNIe88oRK]      5  [recenm1UYUwAIcoya]   \n",
       "1  2022-05-08  [recFqsNfUNIe88oRK]      5  [recenm1UYUwAIcoya]   \n",
       "2  2022-05-08  [rec24NGEkbvktkD9B]      4  [recenm1UYUwAIcoya]   \n",
       "3  2022-05-07  [rec24NGEkbvktkD9B]      3  [recenm1UYUwAIcoya]   \n",
       "\n",
       "                  id               createdTime  \\\n",
       "0  recMHleWhG91jn7sc  2022-05-08T19:00:41.000Z   \n",
       "1  recWwwlzwY1XqGQdE  2022-05-08T21:56:53.000Z   \n",
       "2  recmIsNssDDyEl9io  2022-05-08T21:56:49.000Z   \n",
       "3  recqlcZ0qzaBZ7EHW  2022-05-08T17:11:28.000Z   \n",
       "\n",
       "                                              fields  \n",
       "0  {'Date': '2022-05-07', 'Habit': ['recFqsNfUNIe...  \n",
       "1  {'Date': '2022-05-08', 'Habit': ['recFqsNfUNIe...  \n",
       "2  {'Date': '2022-05-08', 'Habit': ['rec24NGEkbvk...  \n",
       "3  {'Date': '2022-05-07', 'Habit': ['rec24NGEkbvk...  "
      ]
     },
     "execution_count": 44,
     "metadata": {},
     "output_type": "execute_result"
    }
   ],
   "source": [
    "df"
   ]
  },
  {
   "cell_type": "code",
   "execution_count": 45,
   "id": "b4bcc3d0",
   "metadata": {},
   "outputs": [],
   "source": [
    "df.index=pd.DatetimeIndex(df['Date'])\n",
    "df=df.sort_index()\n",
    "dfr=df.resample('D').sum() #Resample"
   ]
  },
  {
   "cell_type": "code",
   "execution_count": 46,
   "id": "501b3be7",
   "metadata": {},
   "outputs": [
    {
     "data": {
      "text/html": [
       "<div>\n",
       "<style scoped>\n",
       "    .dataframe tbody tr th:only-of-type {\n",
       "        vertical-align: middle;\n",
       "    }\n",
       "\n",
       "    .dataframe tbody tr th {\n",
       "        vertical-align: top;\n",
       "    }\n",
       "\n",
       "    .dataframe thead th {\n",
       "        text-align: right;\n",
       "    }\n",
       "</style>\n",
       "<table border=\"1\" class=\"dataframe\">\n",
       "  <thead>\n",
       "    <tr style=\"text-align: right;\">\n",
       "      <th></th>\n",
       "      <th>Score</th>\n",
       "    </tr>\n",
       "    <tr>\n",
       "      <th>Date</th>\n",
       "      <th></th>\n",
       "    </tr>\n",
       "  </thead>\n",
       "  <tbody>\n",
       "    <tr>\n",
       "      <th>2022-05-07</th>\n",
       "      <td>8</td>\n",
       "    </tr>\n",
       "    <tr>\n",
       "      <th>2022-05-08</th>\n",
       "      <td>9</td>\n",
       "    </tr>\n",
       "  </tbody>\n",
       "</table>\n",
       "</div>"
      ],
      "text/plain": [
       "            Score\n",
       "Date             \n",
       "2022-05-07      8\n",
       "2022-05-08      9"
      ]
     },
     "execution_count": 46,
     "metadata": {},
     "output_type": "execute_result"
    }
   ],
   "source": [
    "dfr"
   ]
  },
  {
   "cell_type": "code",
   "execution_count": null,
   "id": "efa897ae",
   "metadata": {},
   "outputs": [],
   "source": []
  },
  {
   "cell_type": "code",
   "execution_count": 31,
   "id": "399522ef",
   "metadata": {},
   "outputs": [],
   "source": [
    "goal_table=Table(api_key, base_id, 'Goals')\n"
   ]
  },
  {
   "cell_type": "code",
   "execution_count": 35,
   "id": "84e54aac",
   "metadata": {},
   "outputs": [
    {
     "data": {
      "text/plain": [
       "'Personal Development'"
      ]
     },
     "execution_count": 35,
     "metadata": {},
     "output_type": "execute_result"
    }
   ],
   "source": [
    "goal_table.get('recenm1UYUwAIcoya')['fields']['Goal']"
   ]
  },
  {
   "cell_type": "code",
   "execution_count": null,
   "id": "df2e2da7",
   "metadata": {},
   "outputs": [],
   "source": []
  },
  {
   "cell_type": "code",
   "execution_count": null,
   "id": "dbc1e659",
   "metadata": {},
   "outputs": [],
   "source": []
  },
  {
   "cell_type": "code",
   "execution_count": null,
   "id": "c0461c39",
   "metadata": {},
   "outputs": [],
   "source": []
  }
 ],
 "metadata": {
  "kernelspec": {
   "display_name": "Python 3",
   "language": "python",
   "name": "python3"
  },
  "language_info": {
   "codemirror_mode": {
    "name": "ipython",
    "version": 3
   },
   "file_extension": ".py",
   "mimetype": "text/x-python",
   "name": "python",
   "nbconvert_exporter": "python",
   "pygments_lexer": "ipython3",
   "version": "3.7.3"
  }
 },
 "nbformat": 4,
 "nbformat_minor": 5
}

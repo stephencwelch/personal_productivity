{
 "cells": [
  {
   "cell_type": "markdown",
   "id": "d77a0923",
   "metadata": {},
   "source": [
    "## airtable_tools_v2"
   ]
  },
  {
   "cell_type": "code",
   "execution_count": 1,
   "id": "9b961d42",
   "metadata": {},
   "outputs": [],
   "source": [
    "import os, logging\n",
    "import numpy as np\n",
    "\n",
    "from tqdm import tqdm\n",
    "import pandas as pd\n",
    "from pyairtable import Table\n",
    "from dotenv import load_dotenv\n",
    "from datetime import datetime\n",
    "import pytz"
   ]
  },
  {
   "cell_type": "code",
   "execution_count": 2,
   "id": "9a6df2ca",
   "metadata": {},
   "outputs": [],
   "source": [
    "logging.basicConfig(format='[%(asctime)s] p%(process)s {%(filename)s:%(lineno)d} %(levelname)s - %(message)s',\n",
    "                    datefmt='%m-%d %H:%M:%S',level='INFO')\n",
    "logger=logging.getLogger(__name__)\n",
    "logger.setLevel('INFO')"
   ]
  },
  {
   "cell_type": "code",
   "execution_count": 3,
   "id": "0ba0605c",
   "metadata": {},
   "outputs": [],
   "source": [
    "load_dotenv()\n",
    "api_key=os.getenv('AIRTABLE_API_KEY')\n",
    "base_id='appDTdyxcShkSR3oF'"
   ]
  },
  {
   "cell_type": "markdown",
   "id": "f94414e5",
   "metadata": {},
   "source": [
    "## Logs"
   ]
  },
  {
   "cell_type": "code",
   "execution_count": 4,
   "id": "aef8eb73",
   "metadata": {},
   "outputs": [],
   "source": [
    "dst_table_name='[A]Logs'"
   ]
  },
  {
   "cell_type": "code",
   "execution_count": 5,
   "id": "8550f124",
   "metadata": {},
   "outputs": [
    {
     "name": "stderr",
     "output_type": "stream",
     "text": [
      "[08-21 09:41:20] p6837 {2472340047.py:1} INFO - Connecting to Log and Habits table...\n",
      "[08-21 09:41:20] p6837 {2472340047.py:5} INFO - Connecting to [A]Logs table...\n"
     ]
    }
   ],
   "source": [
    "logger.info('Connecting to Log and Habits table...')\n",
    "log_table=Table(api_key, base_id, 'Log')\n",
    "habit_table=Table(api_key, base_id, 'Habits')\n",
    "\n",
    "logger.info('Connecting to %s table...', dst_table_name)\n",
    "a=Table(api_key, base_id, dst_table_name)"
   ]
  },
  {
   "cell_type": "code",
   "execution_count": 6,
   "id": "d3245ef0",
   "metadata": {},
   "outputs": [
    {
     "name": "stderr",
     "output_type": "stream",
     "text": [
      "[08-21 09:41:20] p6837 {882991070.py:1} INFO - Finding Log records with \"Log\" in the Habit name...\n",
      "100%|███████████████████████████████████████████████████████████████████████████████████████████████████| 1050/1050 [00:13<00:00, 80.37it/s]\n",
      "[08-21 09:41:37] p6837 {882991070.py:12} INFO - Converting to dataframe and resampling...\n",
      "[08-21 09:41:37] p6837 {882991070.py:16} INFO - Deleting existing [A]Logs data..\n",
      "[08-21 09:41:37] p6837 {882991070.py:21} INFO - Uploading new analytics data...\n",
      "[08-21 09:41:43] p6837 {882991070.py:34} INFO - Completed uploading 76 records. \n"
     ]
    }
   ],
   "source": [
    "logger.info('Finding Log records with \"Log\" in the Habit name...')\n",
    "res=[]\n",
    "for o in tqdm(log_table.all()):\n",
    "    if 'fields' not in o: continue\n",
    "    if 'Habit' not in o['fields']: continue\n",
    "    if 'Score' not in o['fields']: continue\n",
    "    if len(o['fields']['Habit'])>0:\n",
    "        habit=habit_table.get(o['fields']['Habit'][0])\n",
    "        if 'Log' in habit['fields']['Habit']:\n",
    "            res.append({'Date':o['fields']['Date'], 'Score':o['fields']['Score'], 'Log': habit['fields']['Habit'].strip('Log: ')})\n",
    "\n",
    "logger.info('Converting to dataframe and resampling...')\n",
    "df=pd.DataFrame(res)\n",
    "df.index=pd.DatetimeIndex(df['Date'])\n",
    "\n",
    "logger.info('Deleting existing %s data..', dst_table_name)\n",
    "r=a.all()\n",
    "ids=[o['id'] for o in r]\n",
    "res=a.batch_delete(ids)\n",
    "\n",
    "logger.info('Uploading new analytics data...')\n",
    "for l in list(df['Log'].unique()):\n",
    "    dfs=df[df['Log']==l]\n",
    "    dfs=dfs.sort_index()\n",
    "    dfr=dfs.resample('D').mean() #Resample\n",
    "    \n",
    "    res=[]\n",
    "    for d in dfr.index:\n",
    "        if np.isnan(dfr.loc[d]['Score']): continue\n",
    "        res.append({'Date': str(d.date()),\n",
    "                 'Score': int(dfr.loc[d]['Score']),\n",
    "                 'Metric': l})\n",
    "    res=a.batch_create(res)\n",
    "logger.info('Completed uploading %i records. ', len(res))\n"
   ]
  },
  {
   "cell_type": "markdown",
   "id": "b33536d3",
   "metadata": {},
   "source": [
    "## Health Habits"
   ]
  },
  {
   "cell_type": "code",
   "execution_count": 7,
   "id": "43b486da",
   "metadata": {},
   "outputs": [],
   "source": [
    "dst_table_name='[A]HealthHabits'\n",
    "non_weight_volume_mult=50"
   ]
  },
  {
   "cell_type": "code",
   "execution_count": 8,
   "id": "942f0145",
   "metadata": {},
   "outputs": [
    {
     "name": "stderr",
     "output_type": "stream",
     "text": [
      "[08-21 09:41:43] p6837 {4205170511.py:1} INFO - Connecting to Log, Habits, and Goal table...\n",
      "[08-21 09:41:43] p6837 {4205170511.py:6} INFO - Connecting to [A]HealthHabits table...\n"
     ]
    }
   ],
   "source": [
    "logger.info('Connecting to Log, Habits, and Goal table...')\n",
    "log_table=Table(api_key, base_id, 'Log')\n",
    "habit_table=Table(api_key, base_id, 'Habits')\n",
    "goal_table=Table(api_key, base_id, 'Goals')\n",
    "\n",
    "logger.info('Connecting to %s table...', dst_table_name)\n",
    "a=Table(api_key, base_id, dst_table_name)"
   ]
  },
  {
   "cell_type": "code",
   "execution_count": 9,
   "id": "a54d378d",
   "metadata": {},
   "outputs": [
    {
     "name": "stderr",
     "output_type": "stream",
     "text": [
      "[08-21 09:41:44] p6837 {1923462214.py:1} INFO - Finding Exercise Logs\n",
      "100%|███████████████████████████████████████████████████████████████████████████████████████████████████| 1053/1053 [00:36<00:00, 29.18it/s]\n",
      "[08-21 09:42:23] p6837 {1923462214.py:28} INFO - Converting to dataframe and resampling...\n",
      "[08-21 09:42:23] p6837 {1923462214.py:32} INFO - Deleting existing [A]HealthHabits data..\n"
     ]
    }
   ],
   "source": [
    "logger.info('Finding Exercise Logs')\n",
    "res=[]\n",
    "for o in tqdm(log_table.all()):\n",
    "    if 'fields' not in o: continue\n",
    "    if 'Habit' not in o['fields']: continue\n",
    "    if 'Goal 2' not in o['fields']: continue\n",
    "    if 'Category' not in o['fields']: continue\n",
    "    if len(o['fields']['Goal 2'])>0:\n",
    "        goal=goal_table.get(o['fields']['Goal 2'][0])\n",
    "        habit=habit_table.get(o['fields']['Habit'][0])['fields']['Habit']\n",
    "        if 'fields' not in goal: continue\n",
    "        if 'Goal' not in goal['fields']: continue\n",
    "        if goal['fields']['Goal']==\"Health\":\n",
    "            if 'Reps' in o['fields'] and 'Weight' in o['fields'] and 'Sets' in o['fields']:\n",
    "                volume=float(o['fields']['Reps'])*float(o['fields']['Sets'])*float(o['fields']['Weight'])\n",
    "            elif 'Minutes' in o['fields']: \n",
    "                volume=non_weight_volume_mult*o['fields']['Minutes']\n",
    "            else:\n",
    "                volume=100\n",
    "                \n",
    "            if len(o['fields']['Category'])>0: category=o['fields']['Category'][0]\n",
    "            else: category='Unknown'\n",
    "            res.append({'Date':o['fields']['Date'], \n",
    "                        'Volume':volume, \n",
    "                        'Habit':habit,\n",
    "                        'Category': category})\n",
    "            \n",
    "logger.info('Converting to dataframe and resampling...')\n",
    "df=pd.DataFrame(res)\n",
    "df.index=pd.DatetimeIndex(df['Date'])\n",
    "\n",
    "logger.info('Deleting existing %s data..', dst_table_name)\n",
    "r=a.all()\n",
    "ids=[o['id'] for o in r]\n",
    "res=a.batch_delete(ids)"
   ]
  },
  {
   "cell_type": "code",
   "execution_count": 10,
   "id": "776f7be0",
   "metadata": {},
   "outputs": [
    {
     "data": {
      "text/html": [
       "<div>\n",
       "<style scoped>\n",
       "    .dataframe tbody tr th:only-of-type {\n",
       "        vertical-align: middle;\n",
       "    }\n",
       "\n",
       "    .dataframe tbody tr th {\n",
       "        vertical-align: top;\n",
       "    }\n",
       "\n",
       "    .dataframe thead th {\n",
       "        text-align: right;\n",
       "    }\n",
       "</style>\n",
       "<table border=\"1\" class=\"dataframe\">\n",
       "  <thead>\n",
       "    <tr style=\"text-align: right;\">\n",
       "      <th></th>\n",
       "      <th>Date</th>\n",
       "      <th>Volume</th>\n",
       "      <th>Habit</th>\n",
       "      <th>Category</th>\n",
       "    </tr>\n",
       "    <tr>\n",
       "      <th>Date</th>\n",
       "      <th></th>\n",
       "      <th></th>\n",
       "      <th></th>\n",
       "      <th></th>\n",
       "    </tr>\n",
       "  </thead>\n",
       "  <tbody>\n",
       "    <tr>\n",
       "      <th>2022-06-29</th>\n",
       "      <td>2022-06-29</td>\n",
       "      <td>500.0</td>\n",
       "      <td>Peloton</td>\n",
       "      <td>Cardio</td>\n",
       "    </tr>\n",
       "    <tr>\n",
       "      <th>2022-05-18</th>\n",
       "      <td>2022-05-18</td>\n",
       "      <td>1320.0</td>\n",
       "      <td>Overhead Press</td>\n",
       "      <td>Shoulders</td>\n",
       "    </tr>\n",
       "    <tr>\n",
       "      <th>2022-05-30</th>\n",
       "      <td>2022-05-30</td>\n",
       "      <td>3000.0</td>\n",
       "      <td>Bench Press</td>\n",
       "      <td>Chest</td>\n",
       "    </tr>\n",
       "    <tr>\n",
       "      <th>2022-05-16</th>\n",
       "      <td>2022-05-16</td>\n",
       "      <td>500.0</td>\n",
       "      <td>Peloton</td>\n",
       "      <td>Cardio</td>\n",
       "    </tr>\n",
       "    <tr>\n",
       "      <th>2022-07-08</th>\n",
       "      <td>2022-07-08</td>\n",
       "      <td>100.0</td>\n",
       "      <td>Lunge</td>\n",
       "      <td>Legs</td>\n",
       "    </tr>\n",
       "  </tbody>\n",
       "</table>\n",
       "</div>"
      ],
      "text/plain": [
       "                  Date  Volume           Habit   Category\n",
       "Date                                                     \n",
       "2022-06-29  2022-06-29   500.0         Peloton     Cardio\n",
       "2022-05-18  2022-05-18  1320.0  Overhead Press  Shoulders\n",
       "2022-05-30  2022-05-30  3000.0     Bench Press      Chest\n",
       "2022-05-16  2022-05-16   500.0         Peloton     Cardio\n",
       "2022-07-08  2022-07-08   100.0          Lunge        Legs"
      ]
     },
     "execution_count": 10,
     "metadata": {},
     "output_type": "execute_result"
    }
   ],
   "source": [
    "df.head()"
   ]
  },
  {
   "cell_type": "code",
   "execution_count": 11,
   "id": "5fee5b81",
   "metadata": {},
   "outputs": [],
   "source": [
    "df=df.sort_index()\n",
    "dfr=df.resample('D').sum() #Resample"
   ]
  },
  {
   "cell_type": "code",
   "execution_count": 12,
   "id": "21fbd3d6",
   "metadata": {},
   "outputs": [
    {
     "name": "stderr",
     "output_type": "stream",
     "text": [
      "/tmp/ipykernel_6837/3747161124.py:2: FutureWarning: The pandas.datetime class is deprecated and will be removed from pandas in a future version. Import from datetime module instead.\n",
      "  end_date=pd.datetime.now()\n"
     ]
    }
   ],
   "source": [
    "# dfr.loc[pd.datetime.strptime('2021-4-20', '%Y-%m-%d')]=0 #Working test case\n",
    "end_date=pd.datetime.now()\n",
    "if end_date not in dfr.index: #Do we have data from today?\n",
    "    dfr.loc[end_date]=0 #Add 0s at todays date\n",
    "    dfr=dfr.resample('D').sum()"
   ]
  },
  {
   "cell_type": "code",
   "execution_count": 13,
   "id": "6dfbdd89",
   "metadata": {},
   "outputs": [
    {
     "name": "stderr",
     "output_type": "stream",
     "text": [
      "[08-21 09:42:49] p6837 {1019186728.py:1} INFO - Computing cumulative sums by type...\n"
     ]
    }
   ],
   "source": [
    "logger.info('Computing cumulative sums by type...')\n",
    "\n",
    "for s in df['Category'].unique(): dfr['Volume_'+s]=df[df['Category']==s]['Volume'].resample('D').sum()\n",
    "dfr=dfr.replace(np.NaN, 0)\n",
    "for s in df['Category'].unique(): dfr['Volume_Cumulative_'+s]=dfr['Volume_'+s].cumsum()"
   ]
  },
  {
   "cell_type": "code",
   "execution_count": 14,
   "id": "0689ea97",
   "metadata": {},
   "outputs": [
    {
     "data": {
      "text/html": [
       "<div>\n",
       "<style scoped>\n",
       "    .dataframe tbody tr th:only-of-type {\n",
       "        vertical-align: middle;\n",
       "    }\n",
       "\n",
       "    .dataframe tbody tr th {\n",
       "        vertical-align: top;\n",
       "    }\n",
       "\n",
       "    .dataframe thead th {\n",
       "        text-align: right;\n",
       "    }\n",
       "</style>\n",
       "<table border=\"1\" class=\"dataframe\">\n",
       "  <thead>\n",
       "    <tr style=\"text-align: right;\">\n",
       "      <th></th>\n",
       "      <th>Volume</th>\n",
       "      <th>Volume_Chest</th>\n",
       "      <th>Volume_Back</th>\n",
       "      <th>Volume_Arms</th>\n",
       "      <th>Volume_Legs</th>\n",
       "      <th>Volume_Cardio</th>\n",
       "      <th>Volume_Abs</th>\n",
       "      <th>Volume_Shoulders</th>\n",
       "      <th>Volume_Yoga/Stretch</th>\n",
       "      <th>Volume_Cumulative_Chest</th>\n",
       "      <th>Volume_Cumulative_Back</th>\n",
       "      <th>Volume_Cumulative_Arms</th>\n",
       "      <th>Volume_Cumulative_Legs</th>\n",
       "      <th>Volume_Cumulative_Cardio</th>\n",
       "      <th>Volume_Cumulative_Abs</th>\n",
       "      <th>Volume_Cumulative_Shoulders</th>\n",
       "      <th>Volume_Cumulative_Yoga/Stretch</th>\n",
       "    </tr>\n",
       "    <tr>\n",
       "      <th>Date</th>\n",
       "      <th></th>\n",
       "      <th></th>\n",
       "      <th></th>\n",
       "      <th></th>\n",
       "      <th></th>\n",
       "      <th></th>\n",
       "      <th></th>\n",
       "      <th></th>\n",
       "      <th></th>\n",
       "      <th></th>\n",
       "      <th></th>\n",
       "      <th></th>\n",
       "      <th></th>\n",
       "      <th></th>\n",
       "      <th></th>\n",
       "      <th></th>\n",
       "      <th></th>\n",
       "    </tr>\n",
       "  </thead>\n",
       "  <tbody>\n",
       "    <tr>\n",
       "      <th>2022-05-09</th>\n",
       "      <td>6380.0</td>\n",
       "      <td>2380.0</td>\n",
       "      <td>100.0</td>\n",
       "      <td>1350.0</td>\n",
       "      <td>2050.0</td>\n",
       "      <td>500.0</td>\n",
       "      <td>0.0</td>\n",
       "      <td>0.0</td>\n",
       "      <td>0.0</td>\n",
       "      <td>2380.0</td>\n",
       "      <td>100.0</td>\n",
       "      <td>1350.0</td>\n",
       "      <td>2050.0</td>\n",
       "      <td>500.0</td>\n",
       "      <td>0.0</td>\n",
       "      <td>0.0</td>\n",
       "      <td>0.0</td>\n",
       "    </tr>\n",
       "    <tr>\n",
       "      <th>2022-05-10</th>\n",
       "      <td>0.0</td>\n",
       "      <td>0.0</td>\n",
       "      <td>0.0</td>\n",
       "      <td>0.0</td>\n",
       "      <td>0.0</td>\n",
       "      <td>0.0</td>\n",
       "      <td>0.0</td>\n",
       "      <td>0.0</td>\n",
       "      <td>0.0</td>\n",
       "      <td>2380.0</td>\n",
       "      <td>100.0</td>\n",
       "      <td>1350.0</td>\n",
       "      <td>2050.0</td>\n",
       "      <td>500.0</td>\n",
       "      <td>0.0</td>\n",
       "      <td>0.0</td>\n",
       "      <td>0.0</td>\n",
       "    </tr>\n",
       "    <tr>\n",
       "      <th>2022-05-11</th>\n",
       "      <td>7525.0</td>\n",
       "      <td>100.0</td>\n",
       "      <td>1440.0</td>\n",
       "      <td>960.0</td>\n",
       "      <td>2865.0</td>\n",
       "      <td>500.0</td>\n",
       "      <td>100.0</td>\n",
       "      <td>1560.0</td>\n",
       "      <td>0.0</td>\n",
       "      <td>2480.0</td>\n",
       "      <td>1540.0</td>\n",
       "      <td>2310.0</td>\n",
       "      <td>4915.0</td>\n",
       "      <td>1000.0</td>\n",
       "      <td>100.0</td>\n",
       "      <td>1560.0</td>\n",
       "      <td>0.0</td>\n",
       "    </tr>\n",
       "    <tr>\n",
       "      <th>2022-05-12</th>\n",
       "      <td>0.0</td>\n",
       "      <td>0.0</td>\n",
       "      <td>0.0</td>\n",
       "      <td>0.0</td>\n",
       "      <td>0.0</td>\n",
       "      <td>0.0</td>\n",
       "      <td>0.0</td>\n",
       "      <td>0.0</td>\n",
       "      <td>0.0</td>\n",
       "      <td>2480.0</td>\n",
       "      <td>1540.0</td>\n",
       "      <td>2310.0</td>\n",
       "      <td>4915.0</td>\n",
       "      <td>1000.0</td>\n",
       "      <td>100.0</td>\n",
       "      <td>1560.0</td>\n",
       "      <td>0.0</td>\n",
       "    </tr>\n",
       "    <tr>\n",
       "      <th>2022-05-13</th>\n",
       "      <td>5870.0</td>\n",
       "      <td>1920.0</td>\n",
       "      <td>280.0</td>\n",
       "      <td>0.0</td>\n",
       "      <td>3120.0</td>\n",
       "      <td>250.0</td>\n",
       "      <td>0.0</td>\n",
       "      <td>300.0</td>\n",
       "      <td>0.0</td>\n",
       "      <td>4400.0</td>\n",
       "      <td>1820.0</td>\n",
       "      <td>2310.0</td>\n",
       "      <td>8035.0</td>\n",
       "      <td>1250.0</td>\n",
       "      <td>100.0</td>\n",
       "      <td>1860.0</td>\n",
       "      <td>0.0</td>\n",
       "    </tr>\n",
       "    <tr>\n",
       "      <th>...</th>\n",
       "      <td>...</td>\n",
       "      <td>...</td>\n",
       "      <td>...</td>\n",
       "      <td>...</td>\n",
       "      <td>...</td>\n",
       "      <td>...</td>\n",
       "      <td>...</td>\n",
       "      <td>...</td>\n",
       "      <td>...</td>\n",
       "      <td>...</td>\n",
       "      <td>...</td>\n",
       "      <td>...</td>\n",
       "      <td>...</td>\n",
       "      <td>...</td>\n",
       "      <td>...</td>\n",
       "      <td>...</td>\n",
       "      <td>...</td>\n",
       "    </tr>\n",
       "    <tr>\n",
       "      <th>2022-08-17</th>\n",
       "      <td>0.0</td>\n",
       "      <td>0.0</td>\n",
       "      <td>0.0</td>\n",
       "      <td>0.0</td>\n",
       "      <td>0.0</td>\n",
       "      <td>0.0</td>\n",
       "      <td>0.0</td>\n",
       "      <td>0.0</td>\n",
       "      <td>0.0</td>\n",
       "      <td>45000.0</td>\n",
       "      <td>26148.0</td>\n",
       "      <td>22800.0</td>\n",
       "      <td>103065.0</td>\n",
       "      <td>27900.0</td>\n",
       "      <td>600.0</td>\n",
       "      <td>20440.0</td>\n",
       "      <td>6750.0</td>\n",
       "    </tr>\n",
       "    <tr>\n",
       "      <th>2022-08-18</th>\n",
       "      <td>8320.0</td>\n",
       "      <td>4060.0</td>\n",
       "      <td>100.0</td>\n",
       "      <td>0.0</td>\n",
       "      <td>3660.0</td>\n",
       "      <td>500.0</td>\n",
       "      <td>0.0</td>\n",
       "      <td>0.0</td>\n",
       "      <td>0.0</td>\n",
       "      <td>49060.0</td>\n",
       "      <td>26248.0</td>\n",
       "      <td>22800.0</td>\n",
       "      <td>106725.0</td>\n",
       "      <td>28400.0</td>\n",
       "      <td>600.0</td>\n",
       "      <td>20440.0</td>\n",
       "      <td>6750.0</td>\n",
       "    </tr>\n",
       "    <tr>\n",
       "      <th>2022-08-19</th>\n",
       "      <td>0.0</td>\n",
       "      <td>0.0</td>\n",
       "      <td>0.0</td>\n",
       "      <td>0.0</td>\n",
       "      <td>0.0</td>\n",
       "      <td>0.0</td>\n",
       "      <td>0.0</td>\n",
       "      <td>0.0</td>\n",
       "      <td>0.0</td>\n",
       "      <td>49060.0</td>\n",
       "      <td>26248.0</td>\n",
       "      <td>22800.0</td>\n",
       "      <td>106725.0</td>\n",
       "      <td>28400.0</td>\n",
       "      <td>600.0</td>\n",
       "      <td>20440.0</td>\n",
       "      <td>6750.0</td>\n",
       "    </tr>\n",
       "    <tr>\n",
       "      <th>2022-08-20</th>\n",
       "      <td>0.0</td>\n",
       "      <td>0.0</td>\n",
       "      <td>0.0</td>\n",
       "      <td>0.0</td>\n",
       "      <td>0.0</td>\n",
       "      <td>0.0</td>\n",
       "      <td>0.0</td>\n",
       "      <td>0.0</td>\n",
       "      <td>0.0</td>\n",
       "      <td>49060.0</td>\n",
       "      <td>26248.0</td>\n",
       "      <td>22800.0</td>\n",
       "      <td>106725.0</td>\n",
       "      <td>28400.0</td>\n",
       "      <td>600.0</td>\n",
       "      <td>20440.0</td>\n",
       "      <td>6750.0</td>\n",
       "    </tr>\n",
       "    <tr>\n",
       "      <th>2022-08-21</th>\n",
       "      <td>0.0</td>\n",
       "      <td>0.0</td>\n",
       "      <td>0.0</td>\n",
       "      <td>0.0</td>\n",
       "      <td>0.0</td>\n",
       "      <td>0.0</td>\n",
       "      <td>0.0</td>\n",
       "      <td>0.0</td>\n",
       "      <td>0.0</td>\n",
       "      <td>49060.0</td>\n",
       "      <td>26248.0</td>\n",
       "      <td>22800.0</td>\n",
       "      <td>106725.0</td>\n",
       "      <td>28400.0</td>\n",
       "      <td>600.0</td>\n",
       "      <td>20440.0</td>\n",
       "      <td>6750.0</td>\n",
       "    </tr>\n",
       "  </tbody>\n",
       "</table>\n",
       "<p>105 rows × 17 columns</p>\n",
       "</div>"
      ],
      "text/plain": [
       "            Volume  Volume_Chest  Volume_Back  Volume_Arms  Volume_Legs  \\\n",
       "Date                                                                      \n",
       "2022-05-09  6380.0        2380.0        100.0       1350.0       2050.0   \n",
       "2022-05-10     0.0           0.0          0.0          0.0          0.0   \n",
       "2022-05-11  7525.0         100.0       1440.0        960.0       2865.0   \n",
       "2022-05-12     0.0           0.0          0.0          0.0          0.0   \n",
       "2022-05-13  5870.0        1920.0        280.0          0.0       3120.0   \n",
       "...            ...           ...          ...          ...          ...   \n",
       "2022-08-17     0.0           0.0          0.0          0.0          0.0   \n",
       "2022-08-18  8320.0        4060.0        100.0          0.0       3660.0   \n",
       "2022-08-19     0.0           0.0          0.0          0.0          0.0   \n",
       "2022-08-20     0.0           0.0          0.0          0.0          0.0   \n",
       "2022-08-21     0.0           0.0          0.0          0.0          0.0   \n",
       "\n",
       "            Volume_Cardio  Volume_Abs  Volume_Shoulders  Volume_Yoga/Stretch  \\\n",
       "Date                                                                           \n",
       "2022-05-09          500.0         0.0               0.0                  0.0   \n",
       "2022-05-10            0.0         0.0               0.0                  0.0   \n",
       "2022-05-11          500.0       100.0            1560.0                  0.0   \n",
       "2022-05-12            0.0         0.0               0.0                  0.0   \n",
       "2022-05-13          250.0         0.0             300.0                  0.0   \n",
       "...                   ...         ...               ...                  ...   \n",
       "2022-08-17            0.0         0.0               0.0                  0.0   \n",
       "2022-08-18          500.0         0.0               0.0                  0.0   \n",
       "2022-08-19            0.0         0.0               0.0                  0.0   \n",
       "2022-08-20            0.0         0.0               0.0                  0.0   \n",
       "2022-08-21            0.0         0.0               0.0                  0.0   \n",
       "\n",
       "            Volume_Cumulative_Chest  Volume_Cumulative_Back  \\\n",
       "Date                                                          \n",
       "2022-05-09                   2380.0                   100.0   \n",
       "2022-05-10                   2380.0                   100.0   \n",
       "2022-05-11                   2480.0                  1540.0   \n",
       "2022-05-12                   2480.0                  1540.0   \n",
       "2022-05-13                   4400.0                  1820.0   \n",
       "...                             ...                     ...   \n",
       "2022-08-17                  45000.0                 26148.0   \n",
       "2022-08-18                  49060.0                 26248.0   \n",
       "2022-08-19                  49060.0                 26248.0   \n",
       "2022-08-20                  49060.0                 26248.0   \n",
       "2022-08-21                  49060.0                 26248.0   \n",
       "\n",
       "            Volume_Cumulative_Arms  Volume_Cumulative_Legs  \\\n",
       "Date                                                         \n",
       "2022-05-09                  1350.0                  2050.0   \n",
       "2022-05-10                  1350.0                  2050.0   \n",
       "2022-05-11                  2310.0                  4915.0   \n",
       "2022-05-12                  2310.0                  4915.0   \n",
       "2022-05-13                  2310.0                  8035.0   \n",
       "...                            ...                     ...   \n",
       "2022-08-17                 22800.0                103065.0   \n",
       "2022-08-18                 22800.0                106725.0   \n",
       "2022-08-19                 22800.0                106725.0   \n",
       "2022-08-20                 22800.0                106725.0   \n",
       "2022-08-21                 22800.0                106725.0   \n",
       "\n",
       "            Volume_Cumulative_Cardio  Volume_Cumulative_Abs  \\\n",
       "Date                                                          \n",
       "2022-05-09                     500.0                    0.0   \n",
       "2022-05-10                     500.0                    0.0   \n",
       "2022-05-11                    1000.0                  100.0   \n",
       "2022-05-12                    1000.0                  100.0   \n",
       "2022-05-13                    1250.0                  100.0   \n",
       "...                              ...                    ...   \n",
       "2022-08-17                   27900.0                  600.0   \n",
       "2022-08-18                   28400.0                  600.0   \n",
       "2022-08-19                   28400.0                  600.0   \n",
       "2022-08-20                   28400.0                  600.0   \n",
       "2022-08-21                   28400.0                  600.0   \n",
       "\n",
       "            Volume_Cumulative_Shoulders  Volume_Cumulative_Yoga/Stretch  \n",
       "Date                                                                     \n",
       "2022-05-09                          0.0                             0.0  \n",
       "2022-05-10                          0.0                             0.0  \n",
       "2022-05-11                       1560.0                             0.0  \n",
       "2022-05-12                       1560.0                             0.0  \n",
       "2022-05-13                       1860.0                             0.0  \n",
       "...                                 ...                             ...  \n",
       "2022-08-17                      20440.0                          6750.0  \n",
       "2022-08-18                      20440.0                          6750.0  \n",
       "2022-08-19                      20440.0                          6750.0  \n",
       "2022-08-20                      20440.0                          6750.0  \n",
       "2022-08-21                      20440.0                          6750.0  \n",
       "\n",
       "[105 rows x 17 columns]"
      ]
     },
     "execution_count": 14,
     "metadata": {},
     "output_type": "execute_result"
    }
   ],
   "source": [
    "dfr"
   ]
  },
  {
   "cell_type": "code",
   "execution_count": 15,
   "id": "3a08f16d",
   "metadata": {},
   "outputs": [
    {
     "name": "stderr",
     "output_type": "stream",
     "text": [
      "[08-21 09:42:49] p6837 {604491207.py:1} INFO - Deleting old Analytics data..\n"
     ]
    }
   ],
   "source": [
    "logger.info('Deleting old Analytics data..')\n",
    "r=a.all()\n",
    "ids=[o['id'] for o in r]\n",
    "res=a.batch_delete(ids)"
   ]
  },
  {
   "cell_type": "code",
   "execution_count": 16,
   "id": "3687755a",
   "metadata": {},
   "outputs": [
    {
     "name": "stderr",
     "output_type": "stream",
     "text": [
      "[08-21 09:42:49] p6837 {3056668839.py:1} INFO - Uploading new analytics data...\n"
     ]
    }
   ],
   "source": [
    "logger.info('Uploading new analytics data...')\n",
    "l=[]\n",
    "for s in df['Category'].unique():\n",
    "    for d in dfr.index:\n",
    "        l.append({'Date': str(d.date()),\n",
    "                 'Exercise Volume': dfr.loc[d]['Volume_Cumulative_'+s],\n",
    "                 'Category': s})\n",
    "res=a.batch_create(l)"
   ]
  },
  {
   "cell_type": "markdown",
   "id": "6fe2a852",
   "metadata": {},
   "source": [
    "## General Actions Bro"
   ]
  },
  {
   "cell_type": "code",
   "execution_count": 17,
   "id": "9b60ae3d",
   "metadata": {},
   "outputs": [
    {
     "name": "stderr",
     "output_type": "stream",
     "text": [
      "[08-21 09:43:20] p6837 {3412329302.py:2} INFO - Deleting existing [A]Actions data..\n",
      "[08-21 09:43:20] p6837 {3412329302.py:4} INFO - Connecting to [A]Actions table...\n"
     ]
    }
   ],
   "source": [
    "dst_table_name='[A]Actions'\n",
    "logger.info('Deleting existing %s data..', dst_table_name)\n",
    "\n",
    "logger.info('Connecting to %s table...', dst_table_name)\n",
    "a=Table(api_key, base_id, dst_table_name)\n",
    "r=a.all()\n",
    "ids=[o['id'] for o in r]\n",
    "res=a.batch_delete(ids)"
   ]
  },
  {
   "cell_type": "code",
   "execution_count": 18,
   "id": "59566db6",
   "metadata": {},
   "outputs": [
    {
     "name": "stderr",
     "output_type": "stream",
     "text": [
      "[08-21 09:43:57] p6837 {823660372.py:1} INFO - Connecting to Log, Habits, and Goal table...\n"
     ]
    }
   ],
   "source": [
    "logger.info('Connecting to Log, Habits, and Goal table...')\n",
    "log_table=Table(api_key, base_id, 'Log')\n",
    "habit_table=Table(api_key, base_id, 'Habits')\n",
    "goal_table=Table(api_key, base_id, 'Goals')"
   ]
  },
  {
   "cell_type": "code",
   "execution_count": 19,
   "id": "5a30d1dc",
   "metadata": {},
   "outputs": [
    {
     "name": "stderr",
     "output_type": "stream",
     "text": [
      "100%|███████████████████████████████████████████████████████████████████████████████████████████████| 1056/1056 [00:00<00:00, 440233.08it/s]\n",
      "[08-21 09:44:00] p6837 {2819157270.py:10} INFO - Converting to dataframe and resampling...\n"
     ]
    }
   ],
   "source": [
    "res=[]\n",
    "for o in tqdm(log_table.all()):\n",
    "    if 'fields' not in o: continue\n",
    "    if 'Action' not in o['fields']: continue\n",
    "    if 'Goal' not in o['fields']: continue\n",
    "    res.append({'Date': o['fields']['Date'], \n",
    "                'Action': o['fields']['Action'],\n",
    "                'Goal': o['fields']['Goal']})\n",
    "\n",
    "logger.info('Converting to dataframe and resampling...')\n",
    "df=pd.DataFrame(res)\n",
    "df.index=pd.DatetimeIndex(df['Date'])\n",
    "df=df.sort_index()"
   ]
  },
  {
   "cell_type": "code",
   "execution_count": 20,
   "id": "c51aa694",
   "metadata": {},
   "outputs": [],
   "source": [
    "for g in df['Goal'].unique():\n",
    "    df['Goal_'+g]=(df['Goal']==g)\n",
    "dfr=df.resample('D').sum()\n",
    "dfr=dfr.replace(np.NaN, 0)\n",
    "for s in df['Goal'].unique(): dfr['Goal_Cumulative_'+s]=dfr['Goal_'+s].cumsum()"
   ]
  },
  {
   "cell_type": "code",
   "execution_count": 21,
   "id": "ef792572",
   "metadata": {},
   "outputs": [
    {
     "data": {
      "text/html": [
       "<div>\n",
       "<style scoped>\n",
       "    .dataframe tbody tr th:only-of-type {\n",
       "        vertical-align: middle;\n",
       "    }\n",
       "\n",
       "    .dataframe tbody tr th {\n",
       "        vertical-align: top;\n",
       "    }\n",
       "\n",
       "    .dataframe thead th {\n",
       "        text-align: right;\n",
       "    }\n",
       "</style>\n",
       "<table border=\"1\" class=\"dataframe\">\n",
       "  <thead>\n",
       "    <tr style=\"text-align: right;\">\n",
       "      <th></th>\n",
       "      <th>Goal_Invisible: General</th>\n",
       "      <th>Goal_Productivity</th>\n",
       "      <th>Goal_Chores</th>\n",
       "      <th>Goal_Personal Development</th>\n",
       "      <th>Goal_Ivy</th>\n",
       "      <th>Goal_Birthdays</th>\n",
       "      <th>Goal_Finance - $2.5M</th>\n",
       "      <th>Goal_Fun</th>\n",
       "      <th>Goal_House</th>\n",
       "      <th>Goal_Giving</th>\n",
       "      <th>...</th>\n",
       "      <th>Goal_Cumulative_Chores</th>\n",
       "      <th>Goal_Cumulative_Personal Development</th>\n",
       "      <th>Goal_Cumulative_Ivy</th>\n",
       "      <th>Goal_Cumulative_Birthdays</th>\n",
       "      <th>Goal_Cumulative_Finance - $2.5M</th>\n",
       "      <th>Goal_Cumulative_Fun</th>\n",
       "      <th>Goal_Cumulative_House</th>\n",
       "      <th>Goal_Cumulative_Giving</th>\n",
       "      <th>Goal_Cumulative_Health</th>\n",
       "      <th>Goal_Cumulative_Veritasium: Analog</th>\n",
       "    </tr>\n",
       "    <tr>\n",
       "      <th>Date</th>\n",
       "      <th></th>\n",
       "      <th></th>\n",
       "      <th></th>\n",
       "      <th></th>\n",
       "      <th></th>\n",
       "      <th></th>\n",
       "      <th></th>\n",
       "      <th></th>\n",
       "      <th></th>\n",
       "      <th></th>\n",
       "      <th></th>\n",
       "      <th></th>\n",
       "      <th></th>\n",
       "      <th></th>\n",
       "      <th></th>\n",
       "      <th></th>\n",
       "      <th></th>\n",
       "      <th></th>\n",
       "      <th></th>\n",
       "      <th></th>\n",
       "      <th></th>\n",
       "    </tr>\n",
       "  </thead>\n",
       "  <tbody>\n",
       "    <tr>\n",
       "      <th>2022-05-09</th>\n",
       "      <td>2</td>\n",
       "      <td>0</td>\n",
       "      <td>0</td>\n",
       "      <td>0</td>\n",
       "      <td>0</td>\n",
       "      <td>0</td>\n",
       "      <td>0</td>\n",
       "      <td>0</td>\n",
       "      <td>0</td>\n",
       "      <td>0</td>\n",
       "      <td>...</td>\n",
       "      <td>0</td>\n",
       "      <td>0</td>\n",
       "      <td>0</td>\n",
       "      <td>0</td>\n",
       "      <td>0</td>\n",
       "      <td>0</td>\n",
       "      <td>0</td>\n",
       "      <td>0</td>\n",
       "      <td>0</td>\n",
       "      <td>0</td>\n",
       "    </tr>\n",
       "    <tr>\n",
       "      <th>2022-05-10</th>\n",
       "      <td>11</td>\n",
       "      <td>1</td>\n",
       "      <td>1</td>\n",
       "      <td>1</td>\n",
       "      <td>0</td>\n",
       "      <td>0</td>\n",
       "      <td>0</td>\n",
       "      <td>0</td>\n",
       "      <td>0</td>\n",
       "      <td>0</td>\n",
       "      <td>...</td>\n",
       "      <td>1</td>\n",
       "      <td>1</td>\n",
       "      <td>0</td>\n",
       "      <td>0</td>\n",
       "      <td>0</td>\n",
       "      <td>0</td>\n",
       "      <td>0</td>\n",
       "      <td>0</td>\n",
       "      <td>0</td>\n",
       "      <td>0</td>\n",
       "    </tr>\n",
       "    <tr>\n",
       "      <th>2022-05-11</th>\n",
       "      <td>7</td>\n",
       "      <td>0</td>\n",
       "      <td>8</td>\n",
       "      <td>0</td>\n",
       "      <td>1</td>\n",
       "      <td>0</td>\n",
       "      <td>0</td>\n",
       "      <td>0</td>\n",
       "      <td>0</td>\n",
       "      <td>0</td>\n",
       "      <td>...</td>\n",
       "      <td>9</td>\n",
       "      <td>1</td>\n",
       "      <td>1</td>\n",
       "      <td>0</td>\n",
       "      <td>0</td>\n",
       "      <td>0</td>\n",
       "      <td>0</td>\n",
       "      <td>0</td>\n",
       "      <td>0</td>\n",
       "      <td>0</td>\n",
       "    </tr>\n",
       "    <tr>\n",
       "      <th>2022-05-12</th>\n",
       "      <td>2</td>\n",
       "      <td>0</td>\n",
       "      <td>0</td>\n",
       "      <td>0</td>\n",
       "      <td>0</td>\n",
       "      <td>2</td>\n",
       "      <td>1</td>\n",
       "      <td>0</td>\n",
       "      <td>0</td>\n",
       "      <td>0</td>\n",
       "      <td>...</td>\n",
       "      <td>9</td>\n",
       "      <td>1</td>\n",
       "      <td>1</td>\n",
       "      <td>2</td>\n",
       "      <td>1</td>\n",
       "      <td>0</td>\n",
       "      <td>0</td>\n",
       "      <td>0</td>\n",
       "      <td>0</td>\n",
       "      <td>0</td>\n",
       "    </tr>\n",
       "    <tr>\n",
       "      <th>2022-05-13</th>\n",
       "      <td>2</td>\n",
       "      <td>0</td>\n",
       "      <td>1</td>\n",
       "      <td>0</td>\n",
       "      <td>1</td>\n",
       "      <td>0</td>\n",
       "      <td>0</td>\n",
       "      <td>0</td>\n",
       "      <td>0</td>\n",
       "      <td>0</td>\n",
       "      <td>...</td>\n",
       "      <td>10</td>\n",
       "      <td>1</td>\n",
       "      <td>2</td>\n",
       "      <td>2</td>\n",
       "      <td>1</td>\n",
       "      <td>0</td>\n",
       "      <td>0</td>\n",
       "      <td>0</td>\n",
       "      <td>0</td>\n",
       "      <td>0</td>\n",
       "    </tr>\n",
       "  </tbody>\n",
       "</table>\n",
       "<p>5 rows × 24 columns</p>\n",
       "</div>"
      ],
      "text/plain": [
       "            Goal_Invisible: General  Goal_Productivity  Goal_Chores  \\\n",
       "Date                                                                  \n",
       "2022-05-09                        2                  0            0   \n",
       "2022-05-10                       11                  1            1   \n",
       "2022-05-11                        7                  0            8   \n",
       "2022-05-12                        2                  0            0   \n",
       "2022-05-13                        2                  0            1   \n",
       "\n",
       "            Goal_Personal Development  Goal_Ivy  Goal_Birthdays  \\\n",
       "Date                                                              \n",
       "2022-05-09                          0         0               0   \n",
       "2022-05-10                          1         0               0   \n",
       "2022-05-11                          0         1               0   \n",
       "2022-05-12                          0         0               2   \n",
       "2022-05-13                          0         1               0   \n",
       "\n",
       "            Goal_Finance - $2.5M  Goal_Fun  Goal_House  Goal_Giving  ...  \\\n",
       "Date                                                                 ...   \n",
       "2022-05-09                     0         0           0            0  ...   \n",
       "2022-05-10                     0         0           0            0  ...   \n",
       "2022-05-11                     0         0           0            0  ...   \n",
       "2022-05-12                     1         0           0            0  ...   \n",
       "2022-05-13                     0         0           0            0  ...   \n",
       "\n",
       "            Goal_Cumulative_Chores  Goal_Cumulative_Personal Development  \\\n",
       "Date                                                                       \n",
       "2022-05-09                       0                                     0   \n",
       "2022-05-10                       1                                     1   \n",
       "2022-05-11                       9                                     1   \n",
       "2022-05-12                       9                                     1   \n",
       "2022-05-13                      10                                     1   \n",
       "\n",
       "            Goal_Cumulative_Ivy  Goal_Cumulative_Birthdays  \\\n",
       "Date                                                         \n",
       "2022-05-09                    0                          0   \n",
       "2022-05-10                    0                          0   \n",
       "2022-05-11                    1                          0   \n",
       "2022-05-12                    1                          2   \n",
       "2022-05-13                    2                          2   \n",
       "\n",
       "            Goal_Cumulative_Finance - $2.5M  Goal_Cumulative_Fun  \\\n",
       "Date                                                               \n",
       "2022-05-09                                0                    0   \n",
       "2022-05-10                                0                    0   \n",
       "2022-05-11                                0                    0   \n",
       "2022-05-12                                1                    0   \n",
       "2022-05-13                                1                    0   \n",
       "\n",
       "            Goal_Cumulative_House  Goal_Cumulative_Giving  \\\n",
       "Date                                                        \n",
       "2022-05-09                      0                       0   \n",
       "2022-05-10                      0                       0   \n",
       "2022-05-11                      0                       0   \n",
       "2022-05-12                      0                       0   \n",
       "2022-05-13                      0                       0   \n",
       "\n",
       "            Goal_Cumulative_Health  Goal_Cumulative_Veritasium: Analog  \n",
       "Date                                                                    \n",
       "2022-05-09                       0                                   0  \n",
       "2022-05-10                       0                                   0  \n",
       "2022-05-11                       0                                   0  \n",
       "2022-05-12                       0                                   0  \n",
       "2022-05-13                       0                                   0  \n",
       "\n",
       "[5 rows x 24 columns]"
      ]
     },
     "execution_count": 21,
     "metadata": {},
     "output_type": "execute_result"
    }
   ],
   "source": [
    "dfr.head()"
   ]
  },
  {
   "cell_type": "code",
   "execution_count": 22,
   "id": "96bc8d60",
   "metadata": {},
   "outputs": [
    {
     "name": "stderr",
     "output_type": "stream",
     "text": [
      "[08-21 09:44:00] p6837 {3245747300.py:1} INFO - Uploading new actions data...\n"
     ]
    }
   ],
   "source": [
    "logger.info('Uploading new actions data...')\n",
    "l=[]\n",
    "for s in df['Goal'].unique():\n",
    "    for d in dfr.index:\n",
    "        l.append({'Date': str(d.date()),\n",
    "                  'Actions Completed': int(dfr.loc[d]['Goal_'+s]),\n",
    "                  'Actions Completed Cumulative': int(dfr.loc[d]['Goal_Cumulative_'+s]),\n",
    "                  'Goal': s})\n",
    "res=a.batch_create(l)"
   ]
  },
  {
   "cell_type": "markdown",
   "id": "bb5d0e26",
   "metadata": {},
   "source": [
    "## Goal/Habit Tracking\n",
    "- Can I make this super general so I can visualize any goal over time?\n",
    "- Pausing here for now -> key pieces are deployed, can contineue to improve over time, but let's get this thing live!!"
   ]
  },
  {
   "cell_type": "code",
   "execution_count": 23,
   "id": "9970f0ab",
   "metadata": {},
   "outputs": [],
   "source": [
    "dst_table_name='[A]Habits'"
   ]
  },
  {
   "cell_type": "code",
   "execution_count": 24,
   "id": "c8747047",
   "metadata": {},
   "outputs": [
    {
     "name": "stderr",
     "output_type": "stream",
     "text": [
      "[08-21 09:44:49] p6837 {4205170511.py:1} INFO - Connecting to Log, Habits, and Goal table...\n",
      "[08-21 09:44:49] p6837 {4205170511.py:6} INFO - Connecting to [A]Habits table...\n"
     ]
    }
   ],
   "source": [
    "logger.info('Connecting to Log, Habits, and Goal table...')\n",
    "log_table=Table(api_key, base_id, 'Log')\n",
    "habit_table=Table(api_key, base_id, 'Habits')\n",
    "goal_table=Table(api_key, base_id, 'Goals')\n",
    "\n",
    "logger.info('Connecting to %s table...', dst_table_name)\n",
    "a=Table(api_key, base_id, dst_table_name)"
   ]
  },
  {
   "cell_type": "code",
   "execution_count": 25,
   "id": "3b82e316",
   "metadata": {},
   "outputs": [
    {
     "name": "stderr",
     "output_type": "stream",
     "text": [
      "[08-21 09:44:49] p6837 {751767185.py:1} INFO - Finding Personal Development Logs without \"Log\" in name\n",
      "100%|███████████████████████████████████████████████████████████████████████████████████████████████████| 1056/1056 [01:12<00:00, 14.49it/s]\n"
     ]
    }
   ],
   "source": [
    "logger.info('Finding Personal Development Logs without \"Log\" in name')\n",
    "res=[]\n",
    "for o in tqdm(log_table.all()):\n",
    "    if 'fields' not in o: continue\n",
    "    if 'Habit' not in o['fields']: continue\n",
    "    if 'Goal 2' not in o['fields']: continue\n",
    "    if len(o['fields']['Goal 2'])>0:\n",
    "        goal=goal_table.get(o['fields']['Goal 2'][0])\n",
    "        habit=habit_table.get(o['fields']['Habit'][0])\n",
    "        if 'fields' not in goal: continue\n",
    "        if 'Goal' not in goal['fields']: continue\n",
    "        if 'Log' in habit['fields']['Habit']: continue\n",
    "        d={'Date':o['fields']['Date'], 'Habit': habit['fields']['Habit'], 'Goal':goal['fields']['Goal']}\n",
    "        if 'Minutes' in o['fields']: d['Minutes']=o['fields']['Minutes']\n",
    "        res.append(d)"
   ]
  },
  {
   "cell_type": "code",
   "execution_count": 26,
   "id": "0e90601a",
   "metadata": {},
   "outputs": [
    {
     "name": "stderr",
     "output_type": "stream",
     "text": [
      "[08-21 09:46:05] p6837 {3975660076.py:1} INFO - Converting to dataframe and resampling...\n",
      "[08-21 09:46:05] p6837 {3975660076.py:7} INFO - Deleting existing [A]Habits data..\n"
     ]
    }
   ],
   "source": [
    "logger.info('Converting to dataframe and resampling...')\n",
    "df=pd.DataFrame(res)\n",
    "df.index=pd.DatetimeIndex(df['Date'])\n",
    "df=df.sort_index()\n",
    "dfr=df.resample('D').sum() #Resample\n",
    "\n",
    "logger.info('Deleting existing %s data..', dst_table_name)\n",
    "r=a.all()\n",
    "ids=[o['id'] for o in r]\n",
    "res=a.batch_delete(ids)"
   ]
  },
  {
   "cell_type": "code",
   "execution_count": 27,
   "id": "73d6cdba",
   "metadata": {},
   "outputs": [
    {
     "name": "stderr",
     "output_type": "stream",
     "text": [
      "/tmp/ipykernel_6837/1908159343.py:1: FutureWarning: The pandas.datetime class is deprecated and will be removed from pandas in a future version. Import from datetime module instead.\n",
      "  end_date=pd.datetime.now()\n"
     ]
    }
   ],
   "source": [
    "end_date=pd.datetime.now()\n",
    "if end_date not in dfr.index: #Do we have data from today?\n",
    "    dfr.loc[end_date]=0 #Add 0s at todays date\n",
    "    dfr=dfr.resample('D').sum()"
   ]
  },
  {
   "cell_type": "code",
   "execution_count": 28,
   "id": "2ec82dce",
   "metadata": {},
   "outputs": [
    {
     "name": "stderr",
     "output_type": "stream",
     "text": [
      "[08-21 09:47:59] p6837 {3856466161.py:1} INFO - Computing cumulative sums by type...\n"
     ]
    }
   ],
   "source": [
    "logger.info('Computing cumulative sums by type...')\n",
    "\n",
    "for s in df['Habit'].unique(): dfr['Minutes_'+s]=df[df['Habit']==s]['Minutes'].resample('D').sum()\n",
    "dfr=dfr.replace(np.NaN, 0)\n",
    "for s in df['Habit'].unique(): dfr['Minutes_Cumulative_'+s]=dfr['Minutes_'+s].cumsum()"
   ]
  },
  {
   "cell_type": "code",
   "execution_count": 29,
   "id": "c8da851f",
   "metadata": {},
   "outputs": [
    {
     "name": "stderr",
     "output_type": "stream",
     "text": [
      "[08-21 09:47:59] p6837 {1596327494.py:1} INFO - Uploading new analytics data...\n"
     ]
    }
   ],
   "source": [
    "logger.info('Uploading new analytics data...')\n",
    "l=[]\n",
    "for s in df['Habit'].unique():\n",
    "    for d in dfr.index:\n",
    "        l.append({'Date': str(d.date()),\n",
    "                  'Goal': df[df['Habit']==s]['Goal'].iloc[0],\n",
    "                  'Minutes': dfr.loc[d]['Minutes_'+s],\n",
    "                  'Minutes Cumulative': dfr.loc[d]['Minutes_Cumulative_'+s],\n",
    "                  'Habit': s})\n",
    "res=a.batch_create(l)"
   ]
  },
  {
   "cell_type": "markdown",
   "id": "e69ec97e",
   "metadata": {},
   "source": [
    "## References"
   ]
  },
  {
   "cell_type": "code",
   "execution_count": 30,
   "id": "3ec174cf",
   "metadata": {},
   "outputs": [],
   "source": [
    "dst_table_name='[A]References'"
   ]
  },
  {
   "cell_type": "code",
   "execution_count": 31,
   "id": "97ead0a1",
   "metadata": {},
   "outputs": [
    {
     "name": "stderr",
     "output_type": "stream",
     "text": [
      "[08-21 09:50:17] p6837 {1003154639.py:1} INFO - Connecting to Log, Habits, and Goal table...\n",
      "[08-21 09:50:17] p6837 {1003154639.py:4} INFO - Connecting to [A]References table...\n"
     ]
    }
   ],
   "source": [
    "logger.info('Connecting to Log, Habits, and Goal table...')\n",
    "references_table=Table(api_key, base_id, 'References')\n",
    "\n",
    "logger.info('Connecting to %s table...', dst_table_name)\n",
    "a=Table(api_key, base_id, dst_table_name)"
   ]
  },
  {
   "cell_type": "code",
   "execution_count": 33,
   "id": "1f4d3304",
   "metadata": {},
   "outputs": [
    {
     "name": "stderr",
     "output_type": "stream",
     "text": [
      "[08-21 10:00:46] p6837 {1240893064.py:1} INFO - Deleting existing [A]References data..\n"
     ]
    }
   ],
   "source": [
    "logger.info('Deleting existing %s data..', dst_table_name)\n",
    "r=a.all()\n",
    "ids=[o['id'] for o in r]\n",
    "res=a.batch_delete(ids)"
   ]
  },
  {
   "cell_type": "code",
   "execution_count": 34,
   "id": "c08a821d",
   "metadata": {},
   "outputs": [
    {
     "name": "stderr",
     "output_type": "stream",
     "text": [
      "[08-21 10:00:56] p6837 {3809918773.py:1} INFO - Finding references data...\n",
      "100%|█████████████████████████████████████████████████████████████████████████████████████████████████| 223/223 [00:00<00:00, 616565.45it/s]\n"
     ]
    }
   ],
   "source": [
    "logger.info('Finding references data...')\n",
    "res=[]\n",
    "for o in tqdm(references_table.all()):\n",
    "    res.append({'Date':o['createdTime'], 'Refs':1})"
   ]
  },
  {
   "cell_type": "code",
   "execution_count": 35,
   "id": "2646e59b",
   "metadata": {},
   "outputs": [],
   "source": [
    "df=pd.DataFrame(res)\n",
    "df.index=pd.DatetimeIndex(df['Date'])\n",
    "df=df.sort_index()\n",
    "dfr=df.resample('D').sum() #Resample"
   ]
  },
  {
   "cell_type": "code",
   "execution_count": 36,
   "id": "549e6308",
   "metadata": {},
   "outputs": [
    {
     "name": "stderr",
     "output_type": "stream",
     "text": [
      "/tmp/ipykernel_6837/266820523.py:1: FutureWarning: The pandas.datetime class is deprecated and will be removed from pandas in a future version. Import from datetime module instead.\n",
      "  end_date=pd.datetime.now(tz=pytz.timezone('UTC'))\n"
     ]
    }
   ],
   "source": [
    "end_date=pd.datetime.now(tz=pytz.timezone('UTC'))\n",
    "if end_date not in dfr.index: #Do we have data from today?\n",
    "    dfr.loc[end_date]=0 #Add 0s at todays date\n",
    "    dfr=dfr.resample('D').sum()"
   ]
  },
  {
   "cell_type": "code",
   "execution_count": 37,
   "id": "45e31bde",
   "metadata": {},
   "outputs": [],
   "source": [
    "dfr['Refs Cumulative']=dfr['Refs'].cumsum()\n",
    "dfr['Date']=[str(dfr.index[i].date()) for i in range(len(dfr))]"
   ]
  },
  {
   "cell_type": "code",
   "execution_count": 38,
   "id": "f15c15c0",
   "metadata": {},
   "outputs": [],
   "source": [
    "res=a.batch_create(dfr.to_dict(orient='Records'))"
   ]
  },
  {
   "cell_type": "code",
   "execution_count": null,
   "id": "742d8838",
   "metadata": {},
   "outputs": [],
   "source": []
  }
 ],
 "metadata": {
  "kernelspec": {
   "display_name": "Python 3 (ipykernel)",
   "language": "python",
   "name": "python3"
  },
  "language_info": {
   "codemirror_mode": {
    "name": "ipython",
    "version": 3
   },
   "file_extension": ".py",
   "mimetype": "text/x-python",
   "name": "python",
   "nbconvert_exporter": "python",
   "pygments_lexer": "ipython3",
   "version": "3.9.7"
  }
 },
 "nbformat": 4,
 "nbformat_minor": 5
}

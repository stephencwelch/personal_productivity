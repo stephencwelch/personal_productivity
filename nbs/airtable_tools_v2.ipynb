{
 "cells": [
  {
   "cell_type": "markdown",
   "id": "382de36a",
   "metadata": {},
   "source": [
    "## airtable_tools_v2"
   ]
  },
  {
   "cell_type": "code",
   "execution_count": 22,
   "id": "f4fc0b5d",
   "metadata": {},
   "outputs": [],
   "source": [
    "import os, logging\n",
    "import pandas as pd\n",
    "from pyairtable import Table\n",
    "from dotenv import load_dotenv\n",
    "from datetime import datetime\n",
    "import pytz"
   ]
  },
  {
   "cell_type": "code",
   "execution_count": 25,
   "id": "12beac30",
   "metadata": {},
   "outputs": [],
   "source": [
    "logging.basicConfig(format='[%(asctime)s] p%(process)s {%(filename)s:%(lineno)d} %(levelname)s - %(message)s',\n",
    "                    datefmt='%m-%d %H:%M:%S',level='INFO')\n",
    "logger=logging.getLogger(__name__)\n",
    "logger.setLevel('INFO')"
   ]
  },
  {
   "cell_type": "code",
   "execution_count": 26,
   "id": "251e21d4",
   "metadata": {},
   "outputs": [],
   "source": [
    "load_dotenv()\n",
    "api_key=os.getenv('AIRTABLE_API_KEY')\n",
    "base_id='appDTdyxcShkSR3oF'"
   ]
  },
  {
   "cell_type": "code",
   "execution_count": 28,
   "id": "eab1bc4b",
   "metadata": {},
   "outputs": [],
   "source": [
    "action_table=Table(api_key, base_id, 'Log')"
   ]
  },
  {
   "cell_type": "code",
   "execution_count": 29,
   "id": "048ecb78",
   "metadata": {},
   "outputs": [
    {
     "data": {
      "text/plain": [
       "[{'id': 'recMHleWhG91jn7sc',\n",
       "  'createdTime': '2022-05-08T19:00:41.000Z',\n",
       "  'fields': {'Date': '2022-05-07',\n",
       "   'Habit': ['recFqsNfUNIe88oRK'],\n",
       "   'Score': 5,\n",
       "   'Goal 2': ['recenm1UYUwAIcoya']}},\n",
       " {'id': 'recWwwlzwY1XqGQdE',\n",
       "  'createdTime': '2022-05-08T21:56:53.000Z',\n",
       "  'fields': {'Date': '2022-05-08',\n",
       "   'Habit': ['recFqsNfUNIe88oRK'],\n",
       "   'Score': 5,\n",
       "   'Goal 2': ['recenm1UYUwAIcoya']}},\n",
       " {'id': 'recmIsNssDDyEl9io',\n",
       "  'createdTime': '2022-05-08T21:56:49.000Z',\n",
       "  'fields': {'Date': '2022-05-08',\n",
       "   'Habit': ['rec24NGEkbvktkD9B'],\n",
       "   'Score': 4,\n",
       "   'Goal 2': ['recenm1UYUwAIcoya']}},\n",
       " {'id': 'recqlcZ0qzaBZ7EHW',\n",
       "  'createdTime': '2022-05-08T17:11:28.000Z',\n",
       "  'fields': {'Date': '2022-05-07',\n",
       "   'Habit': ['rec24NGEkbvktkD9B'],\n",
       "   'Score': 3,\n",
       "   'Goal 2': ['recenm1UYUwAIcoya']}}]"
      ]
     },
     "execution_count": 29,
     "metadata": {},
     "output_type": "execute_result"
    }
   ],
   "source": [
    "action_table.all()"
   ]
  },
  {
   "cell_type": "code",
   "execution_count": null,
   "id": "08114d96",
   "metadata": {},
   "outputs": [],
   "source": [
    "habit_table=Table(api_key, base_id, 'Habits')"
   ]
  },
  {
   "cell_type": "code",
   "execution_count": 37,
   "id": "217bdbdc",
   "metadata": {},
   "outputs": [],
   "source": [
    "for o in action_table.all():\n",
    "    if len(o['fields']['Habit'])>0:\n",
    "        habit=habit_table.get(o['fields']['Habit'][0])\n",
    "        if 'Log' in habit['fields']['Habit']:\n",
    "            \n",
    "            "
   ]
  },
  {
   "cell_type": "code",
   "execution_count": 43,
   "id": "b6d521a4",
   "metadata": {},
   "outputs": [
    {
     "name": "stderr",
     "output_type": "stream",
     "text": [
      "[05-08 20:59:44] p1144 {<ipython-input-43-f504cc177592>:2} INFO - Found 4 records\n",
      "[05-08 20:59:44] p1144 {<ipython-input-43-f504cc177592>:5} INFO - Converting to dataframe and resampling...\n"
     ]
    }
   ],
   "source": [
    "res=action_table.all()\n",
    "logger.info('Found %i records', len(res))\n",
    "res=[{**r['fields'], **r} for r in res]\n",
    "\n",
    "logger.info('Converting to dataframe and resampling...')\n",
    "df=pd.DataFrame(res)"
   ]
  },
  {
   "cell_type": "code",
   "execution_count": 44,
   "id": "8df1ec09",
   "metadata": {},
   "outputs": [
    {
     "data": {
      "text/html": [
       "<div>\n",
       "<style scoped>\n",
       "    .dataframe tbody tr th:only-of-type {\n",
       "        vertical-align: middle;\n",
       "    }\n",
       "\n",
       "    .dataframe tbody tr th {\n",
       "        vertical-align: top;\n",
       "    }\n",
       "\n",
       "    .dataframe thead th {\n",
       "        text-align: right;\n",
       "    }\n",
       "</style>\n",
       "<table border=\"1\" class=\"dataframe\">\n",
       "  <thead>\n",
       "    <tr style=\"text-align: right;\">\n",
       "      <th></th>\n",
       "      <th>Date</th>\n",
       "      <th>Habit</th>\n",
       "      <th>Score</th>\n",
       "      <th>Goal 2</th>\n",
       "      <th>id</th>\n",
       "      <th>createdTime</th>\n",
       "      <th>fields</th>\n",
       "    </tr>\n",
       "  </thead>\n",
       "  <tbody>\n",
       "    <tr>\n",
       "      <th>0</th>\n",
       "      <td>2022-05-07</td>\n",
       "      <td>[recFqsNfUNIe88oRK]</td>\n",
       "      <td>5</td>\n",
       "      <td>[recenm1UYUwAIcoya]</td>\n",
       "      <td>recMHleWhG91jn7sc</td>\n",
       "      <td>2022-05-08T19:00:41.000Z</td>\n",
       "      <td>{'Date': '2022-05-07', 'Habit': ['recFqsNfUNIe...</td>\n",
       "    </tr>\n",
       "    <tr>\n",
       "      <th>1</th>\n",
       "      <td>2022-05-08</td>\n",
       "      <td>[recFqsNfUNIe88oRK]</td>\n",
       "      <td>5</td>\n",
       "      <td>[recenm1UYUwAIcoya]</td>\n",
       "      <td>recWwwlzwY1XqGQdE</td>\n",
       "      <td>2022-05-08T21:56:53.000Z</td>\n",
       "      <td>{'Date': '2022-05-08', 'Habit': ['recFqsNfUNIe...</td>\n",
       "    </tr>\n",
       "    <tr>\n",
       "      <th>2</th>\n",
       "      <td>2022-05-08</td>\n",
       "      <td>[rec24NGEkbvktkD9B]</td>\n",
       "      <td>4</td>\n",
       "      <td>[recenm1UYUwAIcoya]</td>\n",
       "      <td>recmIsNssDDyEl9io</td>\n",
       "      <td>2022-05-08T21:56:49.000Z</td>\n",
       "      <td>{'Date': '2022-05-08', 'Habit': ['rec24NGEkbvk...</td>\n",
       "    </tr>\n",
       "    <tr>\n",
       "      <th>3</th>\n",
       "      <td>2022-05-07</td>\n",
       "      <td>[rec24NGEkbvktkD9B]</td>\n",
       "      <td>3</td>\n",
       "      <td>[recenm1UYUwAIcoya]</td>\n",
       "      <td>recqlcZ0qzaBZ7EHW</td>\n",
       "      <td>2022-05-08T17:11:28.000Z</td>\n",
       "      <td>{'Date': '2022-05-07', 'Habit': ['rec24NGEkbvk...</td>\n",
       "    </tr>\n",
       "  </tbody>\n",
       "</table>\n",
       "</div>"
      ],
      "text/plain": [
       "         Date                Habit  Score               Goal 2  \\\n",
       "0  2022-05-07  [recFqsNfUNIe88oRK]      5  [recenm1UYUwAIcoya]   \n",
       "1  2022-05-08  [recFqsNfUNIe88oRK]      5  [recenm1UYUwAIcoya]   \n",
       "2  2022-05-08  [rec24NGEkbvktkD9B]      4  [recenm1UYUwAIcoya]   \n",
       "3  2022-05-07  [rec24NGEkbvktkD9B]      3  [recenm1UYUwAIcoya]   \n",
       "\n",
       "                  id               createdTime  \\\n",
       "0  recMHleWhG91jn7sc  2022-05-08T19:00:41.000Z   \n",
       "1  recWwwlzwY1XqGQdE  2022-05-08T21:56:53.000Z   \n",
       "2  recmIsNssDDyEl9io  2022-05-08T21:56:49.000Z   \n",
       "3  recqlcZ0qzaBZ7EHW  2022-05-08T17:11:28.000Z   \n",
       "\n",
       "                                              fields  \n",
       "0  {'Date': '2022-05-07', 'Habit': ['recFqsNfUNIe...  \n",
       "1  {'Date': '2022-05-08', 'Habit': ['recFqsNfUNIe...  \n",
       "2  {'Date': '2022-05-08', 'Habit': ['rec24NGEkbvk...  \n",
       "3  {'Date': '2022-05-07', 'Habit': ['rec24NGEkbvk...  "
      ]
     },
     "execution_count": 44,
     "metadata": {},
     "output_type": "execute_result"
    }
   ],
   "source": [
    "df"
   ]
  },
  {
   "cell_type": "code",
   "execution_count": null,
   "id": "485f7ba4",
   "metadata": {},
   "outputs": [],
   "source": []
  },
  {
   "cell_type": "code",
   "execution_count": null,
   "id": "0bd2a3b0",
   "metadata": {},
   "outputs": [],
   "source": []
  },
  {
   "cell_type": "code",
   "execution_count": null,
   "id": "3aa7809f",
   "metadata": {},
   "outputs": [],
   "source": [
    "df.index=pd.DatetimeIndex(df['Date'])\n",
    "df=df.sort_index()\n",
    "dfr=df.resample('D').sum() #Resample"
   ]
  },
  {
   "cell_type": "code",
   "execution_count": 31,
   "id": "e5de7742",
   "metadata": {},
   "outputs": [],
   "source": [
    "goal_table=Table(api_key, base_id, 'Goals')\n"
   ]
  },
  {
   "cell_type": "code",
   "execution_count": 35,
   "id": "d99a37c6",
   "metadata": {},
   "outputs": [
    {
     "data": {
      "text/plain": [
       "'Personal Development'"
      ]
     },
     "execution_count": 35,
     "metadata": {},
     "output_type": "execute_result"
    }
   ],
   "source": [
    "goal_table.get('recenm1UYUwAIcoya')['fields']['Goal']"
   ]
  },
  {
   "cell_type": "code",
   "execution_count": null,
   "id": "01f7f60c",
   "metadata": {},
   "outputs": [],
   "source": []
  },
  {
   "cell_type": "code",
   "execution_count": null,
   "id": "2616eed6",
   "metadata": {},
   "outputs": [],
   "source": []
  },
  {
   "cell_type": "code",
   "execution_count": null,
   "id": "80cb799d",
   "metadata": {},
   "outputs": [],
   "source": []
  }
 ],
 "metadata": {
  "kernelspec": {
   "display_name": "Python 3",
   "language": "python",
   "name": "python3"
  },
  "language_info": {
   "codemirror_mode": {
    "name": "ipython",
    "version": 3
   },
   "file_extension": ".py",
   "mimetype": "text/x-python",
   "name": "python",
   "nbconvert_exporter": "python",
   "pygments_lexer": "ipython3",
   "version": "3.7.3"
  }
 },
 "nbformat": 4,
 "nbformat_minor": 5
}
